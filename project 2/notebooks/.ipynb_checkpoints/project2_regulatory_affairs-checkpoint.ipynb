{
 "cells": [
  {
   "cell_type": "markdown",
   "metadata": {},
   "source": [
    "# Project 2 - Regulatory Affairs Data Analysis"
   ]
  },
  {
   "cell_type": "code",
   "execution_count": null,
   "metadata": {},
   "outputs": [],
   "source": [
    "import pandas as pd\n",
    "import matplotlib.pyplot as plt\n",
    "import seaborn as sns\n",
    "\n",
    "# Load dataset\n",
    "df = pd.read_csv('../data/regulatory_affairs.csv')\n",
    "df['Submission_Date'] = pd.to_datetime(df['Submission_Date'])\n",
    "df['Approval_Date'] = pd.to_datetime(df['Approval_Date'])\n",
    "df.head()"
   ]
  },
  {
   "cell_type": "code",
   "execution_count": null,
   "metadata": {},
   "outputs": [],
   "source": [
    "# Missing values check\n",
    "df.isnull().sum()"
   ]
  },
  {
   "cell_type": "code",
   "execution_count": null,
   "metadata": {},
   "outputs": [],
   "source": [
    "# Submissions by country\n",
    "plt.figure(figsize=(6,4))\n",
    "sns.countplot(data=df, x='Country')\n",
    "plt.title('Submissions by Country')\n",
    "plt.show()"
   ]
  },
  {
   "cell_type": "code",
   "execution_count": null,
   "metadata": {},
   "outputs": [],
   "source": [
    "# Approval status distribution\n",
    "plt.figure(figsize=(6,4))\n",
    "sns.countplot(data=df, x='Approval_Status')\n",
    "plt.title('Approval Status Distribution')\n",
    "plt.show()"
   ]
  },
  {
   "cell_type": "code",
   "execution_count": null,
   "metadata": {},
   "outputs": [],
   "source": [
    "# Approval time analysis\n",
    "df['Approval_Time'] = (df['Approval_Date'] - df['Submission_Date']).dt.days\n",
    "df[['Drug_Name','Approval_Time']]"
   ]
  }
 ],
 "metadata": {
  "kernelspec": {
   "display_name": "Python 3",
   "language": "python",
   "name": "python3"
  },
  "language_info": {
   "name": "python",
   "version": "3.11"
  }
 },
 "nbformat": 4,
 "nbformat_minor": 5
}