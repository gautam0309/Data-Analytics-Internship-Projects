{
 "cells": [
  {
   "cell_type": "markdown",
   "id": "0c6da2d9",
   "metadata": {},
   "source": [
    "# Project 4 — Customer Churn Prediction\n",
    "We will load data, explore it, build ML pipelines (Logistic Regression & Random Forest), evaluate with ROC AUC & confusion matrix, and save the best model."
   ]
  },
  {
   "cell_type": "code",
   "execution_count": 1,
   "id": "2612bbc3",
   "metadata": {},
   "outputs": [],
   "source": [
    "# Optional: install packages if missing\n",
    "# !pip install pandas numpy scikit-learn matplotlib joblib\n"
   ]
  },
  {
   "cell_type": "code",
   "execution_count": 2,
   "id": "606f705c",
   "metadata": {},
   "outputs": [
    {
     "data": {
      "text/html": [
       "<div>\n",
       "<style scoped>\n",
       "    .dataframe tbody tr th:only-of-type {\n",
       "        vertical-align: middle;\n",
       "    }\n",
       "\n",
       "    .dataframe tbody tr th {\n",
       "        vertical-align: top;\n",
       "    }\n",
       "\n",
       "    .dataframe thead th {\n",
       "        text-align: right;\n",
       "    }\n",
       "</style>\n",
       "<table border=\"1\" class=\"dataframe\">\n",
       "  <thead>\n",
       "    <tr style=\"text-align: right;\">\n",
       "      <th></th>\n",
       "      <th>tenure</th>\n",
       "      <th>monthly_charges</th>\n",
       "      <th>total_charges</th>\n",
       "      <th>contract_type</th>\n",
       "      <th>payment_method</th>\n",
       "      <th>internet_service</th>\n",
       "      <th>senior_citizen</th>\n",
       "      <th>dependents</th>\n",
       "      <th>tech_support</th>\n",
       "      <th>streaming</th>\n",
       "      <th>churn</th>\n",
       "    </tr>\n",
       "  </thead>\n",
       "  <tbody>\n",
       "    <tr>\n",
       "      <th>0</th>\n",
       "      <td>48</td>\n",
       "      <td>100.30</td>\n",
       "      <td>4761.35</td>\n",
       "      <td>Month-to-month</td>\n",
       "      <td>Electronic check</td>\n",
       "      <td>Fiber optic</td>\n",
       "      <td>0</td>\n",
       "      <td>1</td>\n",
       "      <td>0</td>\n",
       "      <td>0</td>\n",
       "      <td>1</td>\n",
       "    </tr>\n",
       "    <tr>\n",
       "      <th>1</th>\n",
       "      <td>69</td>\n",
       "      <td>100.96</td>\n",
       "      <td>7031.33</td>\n",
       "      <td>One year</td>\n",
       "      <td>Electronic check</td>\n",
       "      <td>DSL</td>\n",
       "      <td>0</td>\n",
       "      <td>0</td>\n",
       "      <td>0</td>\n",
       "      <td>0</td>\n",
       "      <td>0</td>\n",
       "    </tr>\n",
       "    <tr>\n",
       "      <th>2</th>\n",
       "      <td>26</td>\n",
       "      <td>37.54</td>\n",
       "      <td>999.12</td>\n",
       "      <td>One year</td>\n",
       "      <td>Electronic check</td>\n",
       "      <td>DSL</td>\n",
       "      <td>0</td>\n",
       "      <td>1</td>\n",
       "      <td>1</td>\n",
       "      <td>1</td>\n",
       "      <td>0</td>\n",
       "    </tr>\n",
       "    <tr>\n",
       "      <th>3</th>\n",
       "      <td>68</td>\n",
       "      <td>88.27</td>\n",
       "      <td>6086.00</td>\n",
       "      <td>Month-to-month</td>\n",
       "      <td>Electronic check</td>\n",
       "      <td>NaN</td>\n",
       "      <td>0</td>\n",
       "      <td>0</td>\n",
       "      <td>0</td>\n",
       "      <td>0</td>\n",
       "      <td>0</td>\n",
       "    </tr>\n",
       "    <tr>\n",
       "      <th>4</th>\n",
       "      <td>24</td>\n",
       "      <td>109.23</td>\n",
       "      <td>2650.25</td>\n",
       "      <td>Two year</td>\n",
       "      <td>Credit card</td>\n",
       "      <td>Fiber optic</td>\n",
       "      <td>1</td>\n",
       "      <td>0</td>\n",
       "      <td>1</td>\n",
       "      <td>0</td>\n",
       "      <td>1</td>\n",
       "    </tr>\n",
       "  </tbody>\n",
       "</table>\n",
       "</div>"
      ],
      "text/plain": [
       "   tenure  monthly_charges  total_charges   contract_type    payment_method  \\\n",
       "0      48           100.30        4761.35  Month-to-month  Electronic check   \n",
       "1      69           100.96        7031.33        One year  Electronic check   \n",
       "2      26            37.54         999.12        One year  Electronic check   \n",
       "3      68            88.27        6086.00  Month-to-month  Electronic check   \n",
       "4      24           109.23        2650.25        Two year       Credit card   \n",
       "\n",
       "  internet_service  senior_citizen  dependents  tech_support  streaming  churn  \n",
       "0      Fiber optic               0           1             0          0      1  \n",
       "1              DSL               0           0             0          0      0  \n",
       "2              DSL               0           1             1          1      0  \n",
       "3              NaN               0           0             0          0      0  \n",
       "4      Fiber optic               1           0             1          0      1  "
      ]
     },
     "execution_count": 2,
     "metadata": {},
     "output_type": "execute_result"
    }
   ],
   "source": [
    "import pandas as pd\n",
    "import numpy as np\n",
    "import matplotlib.pyplot as plt\n",
    "from pathlib import Path\n",
    "\n",
    "from sklearn.model_selection import train_test_split\n",
    "from sklearn.preprocessing import OneHotEncoder, StandardScaler\n",
    "from sklearn.compose import ColumnTransformer\n",
    "from sklearn.pipeline import Pipeline\n",
    "from sklearn.linear_model import LogisticRegression\n",
    "from sklearn.ensemble import RandomForestClassifier\n",
    "from sklearn.metrics import classification_report, confusion_matrix, roc_auc_score, RocCurveDisplay\n",
    "import joblib\n",
    "\n",
    "plt.rcParams['figure.figsize'] = (8,5)\n",
    "\n",
    "DATA_PATH = Path('..') / 'data' / 'churn.csv'\n",
    "OUT_MODELS = Path('..') / 'outputs' / 'models'\n",
    "OUT_PLOTS = Path('..') / 'outputs' / 'plots'\n",
    "OUT_MODELS.mkdir(parents=True, exist_ok=True)\n",
    "OUT_PLOTS.mkdir(parents=True, exist_ok=True)\n",
    "\n",
    "df = pd.read_csv(DATA_PATH)\n",
    "df.head()"
   ]
  },
  {
   "cell_type": "code",
   "execution_count": 3,
   "id": "beb957f0",
   "metadata": {},
   "outputs": [
    {
     "name": "stdout",
     "output_type": "stream",
     "text": [
      "(2000, 11)\n",
      "tenure                int64\n",
      "monthly_charges     float64\n",
      "total_charges       float64\n",
      "contract_type        object\n",
      "payment_method       object\n",
      "internet_service     object\n",
      "senior_citizen        int64\n",
      "dependents            int64\n",
      "tech_support          int64\n",
      "streaming             int64\n",
      "churn                 int64\n",
      "dtype: object\n",
      "tenure                0\n",
      "monthly_charges       0\n",
      "total_charges         0\n",
      "contract_type         0\n",
      "payment_method        0\n",
      "internet_service    288\n",
      "senior_citizen        0\n",
      "dependents            0\n",
      "tech_support          0\n",
      "streaming             0\n",
      "churn                 0\n",
      "dtype: int64\n"
     ]
    },
    {
     "data": {
      "text/plain": [
       "churn\n",
       "1    0.5035\n",
       "0    0.4965\n",
       "Name: proportion, dtype: float64"
      ]
     },
     "execution_count": 3,
     "metadata": {},
     "output_type": "execute_result"
    }
   ],
   "source": [
    "# Basic EDA\n",
    "print(df.shape)\n",
    "print(df.dtypes)\n",
    "print(df.isna().sum())\n",
    "df['churn'].value_counts(normalize=True)"
   ]
  },
  {
   "cell_type": "code",
   "execution_count": 4,
   "id": "9ef743a4",
   "metadata": {},
   "outputs": [
    {
     "name": "stdout",
     "output_type": "stream",
     "text": [
      "{'AUC_LogReg': np.float64(0.6697167429185731), 'AUC_RandomForest': np.float64(0.6184779619490487)}\n"
     ]
    }
   ],
   "source": [
    "# Train-test split\n",
    "X = df.drop('churn', axis=1)\n",
    "y = df['churn']\n",
    "num_cols = X.select_dtypes(include=[np.number]).columns.tolist()\n",
    "cat_cols = X.select_dtypes(exclude=[np.number]).columns.tolist()\n",
    "\n",
    "X_train, X_test, y_train, y_test = train_test_split(X, y, test_size=0.2, stratify=y, random_state=42)\n",
    "\n",
    "numeric_tf = Pipeline(steps=[('scaler', StandardScaler())])\n",
    "categorical_tf = Pipeline(steps=[('onehot', OneHotEncoder(handle_unknown='ignore'))])\n",
    "\n",
    "preprocess = ColumnTransformer(\n",
    "    transformers=[\n",
    "        ('num', numeric_tf, num_cols),\n",
    "        ('cat', categorical_tf, cat_cols)\n",
    "    ]\n",
    ")\n",
    "\n",
    "logreg = Pipeline(steps=[('preprocess', preprocess),\n",
    "                        ('model', LogisticRegression(max_iter=200))])\n",
    "\n",
    "rf = Pipeline(steps=[('preprocess', preprocess),\n",
    "                    ('model', RandomForestClassifier(n_estimators=300, random_state=42))])\n",
    "\n",
    "logreg.fit(X_train, y_train)\n",
    "rf.fit(X_train, y_train)\n",
    "\n",
    "proba_lr = logreg.predict_proba(X_test)[:,1]\n",
    "proba_rf = rf.predict_proba(X_test)[:,1]\n",
    "auc_lr = roc_auc_score(y_test, proba_lr)\n",
    "auc_rf = roc_auc_score(y_test, proba_rf)\n",
    "print({'AUC_LogReg': auc_lr, 'AUC_RandomForest': auc_rf})"
   ]
  },
  {
   "cell_type": "code",
   "execution_count": 5,
   "id": "8ab8949b",
   "metadata": {},
   "outputs": [
    {
     "name": "stdout",
     "output_type": "stream",
     "text": [
      "Best model: LogisticRegression\n",
      "              precision    recall  f1-score   support\n",
      "\n",
      "           0       0.62      0.61      0.61       199\n",
      "           1       0.62      0.63      0.63       201\n",
      "\n",
      "    accuracy                           0.62       400\n",
      "   macro avg       0.62      0.62      0.62       400\n",
      "weighted avg       0.62      0.62      0.62       400\n",
      "\n",
      "[[121  78]\n",
      " [ 74 127]]\n"
     ]
    },
    {
     "data": {
      "image/png": "[encoded data removed]",
      "text/plain": [
       "<Figure size 800x500 with 1 Axes>"
      ]
     },
     "metadata": {},
     "output_type": "display_data"
    }
   ],
   "source": [
    "# Choose best model\n",
    "best_model = rf if auc_rf >= auc_lr else logreg\n",
    "best_name = 'RandomForest' if best_model is rf else 'LogisticRegression'\n",
    "print('Best model:', best_name)\n",
    "\n",
    "y_pred = best_model.predict(X_test)\n",
    "print(classification_report(y_test, y_pred))\n",
    "print(confusion_matrix(y_test, y_pred))\n",
    "\n",
    "# ROC curve plot\n",
    "disp = RocCurveDisplay.from_predictions(y_test, best_model.predict_proba(X_test)[:,1])\n",
    "plt.title(f'ROC Curve — {best_name}')\n",
    "plt.tight_layout(); plt.show()"
   ]
  },
  {
   "cell_type": "code",
   "execution_count": 6,
   "id": "19524487",
   "metadata": {},
   "outputs": [
    {
     "name": "stdout",
     "output_type": "stream",
     "text": [
      "Saved model to: ..\\outputs\\models\\LogisticRegression_pipeline.joblib\n"
     ]
    }
   ],
   "source": [
    "# Save model\n",
    "model_path = OUT_MODELS / f'{best_name}_pipeline.joblib'\n",
    "joblib.dump(best_model, model_path)\n",
    "print('Saved model to:', model_path)\n"
   ]
  },
  {
   "cell_type": "code",
   "execution_count": null,
   "id": "5256809d-140d-4ead-bb01-804f59df54c0",
   "metadata": {},
   "outputs": [],
   "source": []
  },
  {
   "cell_type": "code",
   "execution_count": null,
   "id": "bf848492-2ac8-4b14-afe7-bce81f20f033",
   "metadata": {},
   "outputs": [],
   "source": []
  },
  {
   "cell_type": "code",
   "execution_count": null,
   "id": "69fd0b84-cc59-4303-aefb-0924f28f6b78",
   "metadata": {},
   "outputs": [],
   "source": []
  }
 ],
 "metadata": {
  "kernelspec": {
   "display_name": "Python 3 (ipykernel)",
   "language": "python",
   "name": "python3"
  },
  "language_info": {
   "codemirror_mode": {
    "name": "ipython",
    "version": 3
   },
   "file_extension": ".py",
   "mimetype": "text/x-python",
   "name": "python",
   "nbconvert_exporter": "python",
   "pygments_lexer": "ipython3",
   "version": "3.11.0"
  }
 },
 "nbformat": 4,
 "nbformat_minor": 5
}
