{
  "cells": [
    {
      "cell_type": "markdown",
      "metadata": {},
      "source": [
        "# Project 3 — Sales Analytics (Retail)\n",
        "\n",
        "Goal: Analyze sales performance (revenue trends, top products, categories, returns) and build RFM customer segmentation.\n"
      ]
    },
    {
      "cell_type": "code",
      "execution_count": null,
      "metadata": {},
      "outputs": [],
      "source": [
        "# Optional: Install packages if missing\n",
        "# !pip install pandas numpy matplotlib scikit-learn\n"
      ]
    },
    {
      "cell_type": "code",
      "execution_count": null,
      "metadata": {},
      "outputs": [],
      "source": [
        "import pandas as pd\n",
        "import numpy as np\n",
        "import matplotlib.pyplot as plt\n",
        "from pathlib import Path\n",
        "plt.rcParams['figure.figsize'] = (10,5)\n",
        "\n",
        "DATA_PATH = Path('..') / 'data' / 'sales.csv'\n",
        "OUTPUT_DIR = Path('..') / 'outputs'\n",
        "OUTPUT_DIR.mkdir(parents=True, exist_ok=True)\n",
        "(OUTPUT_DIR / 'charts').mkdir(parents=True, exist_ok=True)\n",
        "\n",
        "df = pd.read_csv(DATA_PATH, parse_dates=['order_date'])\n",
        "df.head()"
      ]
    },
    {
      "cell_type": "code",
      "execution_count": null,
      "metadata": {},
      "outputs": [],
      "source": [
        "# Basic checks\n",
        "print(df.shape)\n",
        "print(df.dtypes)\n",
        "print(df.isna().sum())\n",
        "df.describe(include='all')"
      ]
    },
    {
      "cell_type": "code",
      "execution_count": null,
      "metadata": {},
      "outputs": [],
      "source": [
        "# Feature engineering\n",
        "df = df.copy()\n",
        "df['year_month'] = df['order_date'].dt.to_period('M').dt.to_timestamp()\n",
        "df['revenue'] = (df['price'] * df['quantity'] * (1 - df['discount']))\n",
        "df['revenue'] = df['revenue'].round(2)\n",
        "df.head()"
      ]
    },
    {
      "cell_type": "code",
      "execution_count": null,
      "metadata": {},
      "outputs": [],
      "source": [
        "# KPI: Monthly revenue trend\n",
        "monthly = df.groupby('year_month')['revenue'].sum()\n",
        "plt.figure()\n",
        "plt.plot(monthly.index, monthly.values)\n",
        "plt.title('Monthly Revenue')\n",
        "plt.xlabel('Month'); plt.ylabel('Revenue')\n",
        "plt.tight_layout(); plt.show()\n"
      ]
    },
    {
      "cell_type": "code",
      "execution_count": null,
      "metadata": {},
      "outputs": [],
      "source": [
        "# Top 10 products by revenue\n",
        "top_products = df.groupby('product')['revenue'].sum().sort_values(ascending=False).head(10)\n",
        "plt.figure()\n",
        "plt.bar(top_products.index, top_products.values)\n",
        "plt.title('Top 10 Products by Revenue')\n",
        "plt.xticks(rotation=45, ha='right')\n",
        "plt.tight_layout(); plt.show()\n"
      ]
    },
    {
      "cell_type": "code",
      "execution_count": null,
      "metadata": {},
      "outputs": [],
      "source": [
        "# Category revenue share\n",
        "cat_rev = df.groupby('category')['revenue'].sum().sort_values(ascending=False)\n",
        "plt.figure()\n",
        "plt.bar(cat_rev.index, cat_rev.values)\n",
        "plt.title('Revenue by Category')\n",
        "plt.xticks(rotation=30)\n",
        "plt.tight_layout(); plt.show()\n"
      ]
    },
    {
      "cell_type": "code",
      "execution_count": null,
      "metadata": {},
      "outputs": [],
      "source": [
        "# Returns rate by category\n",
        "ret_rate = df.groupby('category')['returned'].mean().sort_values(ascending=False)\n",
        "plt.figure()\n",
        "plt.bar(ret_rate.index, ret_rate.values)\n",
        "plt.title('Return Rate by Category')\n",
        "plt.xticks(rotation=30)\n",
        "plt.tight_layout(); plt.show()\n",
        "ret_rate"
      ]
    },
    {
      "cell_type": "code",
      "execution_count": null,
      "metadata": {},
      "outputs": [],
      "source": [
        "# Country revenue\n",
        "cty_rev = df.groupby('country')['revenue'].sum().sort_values(ascending=False)\n",
        "plt.figure()\n",
        "plt.bar(cty_rev.index, cty_rev.values)\n",
        "plt.title('Revenue by Country')\n",
        "plt.xticks(rotation=30)\n",
        "plt.tight_layout(); plt.show()\n",
        "cty_rev"
      ]
    },
    {
      "cell_type": "code",
      "execution_count": null,
      "metadata": {},
      "outputs": [],
      "source": [
        "# RFM Segmentation\n",
        "snapshot_date = df['order_date'].max() + pd.Timedelta(days=1)\n",
        "rfm = df.groupby('customer_id').agg({\n",
        "    'order_date': lambda x: (snapshot_date - x.max()).days,\n",
        "    'order_id': 'nunique',\n",
        "    'revenue': 'sum'\n",
        "})\n",
        "rfm.columns = ['Recency', 'Frequency', 'Monetary']\n",
        "\n",
        "# Score each metric into 1-4 bins\n",
        "rfm['R_Score'] = pd.qcut(rfm['Recency'], 4, labels=[4,3,2,1]).astype(int)\n",
        "rfm['F_Score'] = pd.qcut(rfm['Frequency'].rank(method='first'), 4, labels=[1,2,3,4]).astype(int)\n",
        "rfm['M_Score'] = pd.qcut(rfm['Monetary'].rank(method='first'), 4, labels=[1,2,3,4]).astype(int)\n",
        "rfm['RFM_Segment'] = rfm['R_Score'].astype(str) + rfm['F_Score'].astype(str) + rfm['M_Score'].astype(str)\n",
        "rfm['RFM_Score'] = rfm[['R_Score','F_Score','M_Score']].sum(axis=1)\n",
        "\n",
        "rfm.sort_values('RFM_Score', ascending=False).head()"
      ]
    },
    {
      "cell_type": "code",
      "execution_count": null,
      "metadata": {},
      "outputs": [],
      "source": [
        "# Export RFM table\n",
        "rfm_path = OUTPUT_DIR / 'rfm_segments.csv'\n",
        "rfm.to_csv(rfm_path)\n",
        "print('Saved:', rfm_path)"
      ]
    }
  ],
  "metadata": {
    "kernelspec": {
      "display_name": "Python 3",
      "language": "python",
      "name": "python3"
    },
    "language_info": {
      "name": "python",
      "version": "3.x"
    }
  },
  "nbformat": 4,
  "nbformat_minor": 5
}