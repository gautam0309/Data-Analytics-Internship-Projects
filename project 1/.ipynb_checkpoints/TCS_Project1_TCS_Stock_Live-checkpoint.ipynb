{
 "cells": [
  {
   "cell_type": "markdown",
   "id": "a2091dbe",
   "metadata": {},
   "source": [
    "# Project 1 — TCS Stock Data: Live & Latest\n",
    "\n",
    " ### Goal: Collect live & historical TCS data, perform EDA, compute indicators, backtest a simple MA crossover strategy, and build a short ARIMA forecast.\n",
    "\n",
    "### How to run (VS Code or Jupyter)\n",
    "1. Open this notebook in VS Code (with Python + Jupyter extensions) or Jupyter Notebook/Lab.\n",
    "2. Select a Python interpreter.\n",
    "3. Run each cell **from top to bottom** (Kernel → Restart & Run All if needed).\n",
    "4. If it's your first time, use the **Install** cell below.\n"
   ]
  },
  {
   "cell_type": "code",
   "execution_count": 1,
   "id": "abdf9d4d",
   "metadata": {},
   "outputs": [],
   "source": [
    "# ⬇️ Optional: Install required libraries (uncomment and run if needed)\n",
    "# !pip install --upgrade pip\n",
    "# !pip install yfinance pandas numpy matplotlib plotly statsmodels\n"
   ]
  },
  {
   "cell_type": "code",
   "execution_count": 5,
   "id": "dd89e5fd",
   "metadata": {},
   "outputs": [
    {
     "name": "stdout",
     "output_type": "stream",
     "text": [
      "pandas: 2.3.1\n",
      "numpy: 2.3.2\n",
      "matplotlib: 3.10.5\n",
      "plotly: 6.3.0\n",
      "statsmodels: 0.14.5\n"
     ]
    }
   ],
   "source": [
    "import pandas as pd\n",
    "import numpy as np\n",
    "import matplotlib.pyplot as plt\n",
    "import plotly\n",
    "import plotly.graph_objects as go\n",
    "import statsmodels\n",
    "\n",
    "print(\"pandas:\", pd.__version__)\n",
    "print(\"numpy:\", np.__version__)\n",
    "print(\"matplotlib:\", plt.matplotlib.__version__)\n",
    "print(\"plotly:\", plotly.__version__)\n",
    "print(\"statsmodels:\", statsmodels.__version__)\n"
   ]
  },
  {
   "cell_type": "code",
   "execution_count": 6,
   "id": "e8ee1818",
   "metadata": {},
   "outputs": [],
   "source": [
    "# 🔧 Config\n",
    "TICKER = \"TCS.NS\"  # NSE ticker for Tata Consultancy Services\n",
    "HISTORY_PERIOD = \"max\"  # e.g. \"10y\", \"5y\", \"1y\"\n",
    "INTRADAY_INTERVAL = \"1m\"\n",
    "INTRADAY_PERIOD = \"1d\"\n",
    "\n",
    "OUTPUT_HISTORY_CSV = \"TCS_history_full.csv\"\n",
    "OUTPUT_INDICATORS_CSV = \"TCS_with_indicators.csv\"\n",
    "OUTPUT_INTRADAY_CSV = \"TCS_intraday_1m.csv\"\n"
   ]
  },
  {
   "cell_type": "code",
   "execution_count": 7,
   "id": "1aefb6e0",
   "metadata": {},
   "outputs": [
    {
     "name": "stdout",
     "output_type": "stream",
     "text": [
      "Rows: 5715 From 2002-08-12 to 2025-08-19\n"
     ]
    },
    {
     "data": {
      "text/html": [
       "<div>\n",
       "<style scoped>\n",
       "    .dataframe tbody tr th:only-of-type {\n",
       "        vertical-align: middle;\n",
       "    }\n",
       "\n",
       "    .dataframe tbody tr th {\n",
       "        vertical-align: top;\n",
       "    }\n",
       "\n",
       "    .dataframe thead tr th {\n",
       "        text-align: left;\n",
       "    }\n",
       "\n",
       "    .dataframe thead tr:last-of-type th {\n",
       "        text-align: right;\n",
       "    }\n",
       "</style>\n",
       "<table border=\"1\" class=\"dataframe\">\n",
       "  <thead>\n",
       "    <tr>\n",
       "      <th>Price</th>\n",
       "      <th>Close</th>\n",
       "      <th>High</th>\n",
       "      <th>Low</th>\n",
       "      <th>Open</th>\n",
       "      <th>Volume</th>\n",
       "    </tr>\n",
       "    <tr>\n",
       "      <th>Ticker</th>\n",
       "      <th>TCS.NS</th>\n",
       "      <th>TCS.NS</th>\n",
       "      <th>TCS.NS</th>\n",
       "      <th>TCS.NS</th>\n",
       "      <th>TCS.NS</th>\n",
       "    </tr>\n",
       "    <tr>\n",
       "      <th>Date</th>\n",
       "      <th></th>\n",
       "      <th></th>\n",
       "      <th></th>\n",
       "      <th></th>\n",
       "      <th></th>\n",
       "    </tr>\n",
       "  </thead>\n",
       "  <tbody>\n",
       "    <tr>\n",
       "      <th>2025-08-12</th>\n",
       "      <td>3035.399902</td>\n",
       "      <td>3096.399902</td>\n",
       "      <td>3026.899902</td>\n",
       "      <td>3041.000000</td>\n",
       "      <td>3358232</td>\n",
       "    </tr>\n",
       "    <tr>\n",
       "      <th>2025-08-13</th>\n",
       "      <td>3036.199951</td>\n",
       "      <td>3044.399902</td>\n",
       "      <td>3028.600098</td>\n",
       "      <td>3036.100098</td>\n",
       "      <td>2148166</td>\n",
       "    </tr>\n",
       "    <tr>\n",
       "      <th>2025-08-14</th>\n",
       "      <td>3022.300049</td>\n",
       "      <td>3055.899902</td>\n",
       "      <td>3019.100098</td>\n",
       "      <td>3034.000000</td>\n",
       "      <td>3342174</td>\n",
       "    </tr>\n",
       "    <tr>\n",
       "      <th>2025-08-18</th>\n",
       "      <td>3011.199951</td>\n",
       "      <td>3049.000000</td>\n",
       "      <td>3003.399902</td>\n",
       "      <td>3046.500000</td>\n",
       "      <td>2945609</td>\n",
       "    </tr>\n",
       "    <tr>\n",
       "      <th>2025-08-19</th>\n",
       "      <td>3016.199951</td>\n",
       "      <td>3025.000000</td>\n",
       "      <td>3011.100098</td>\n",
       "      <td>3011.199951</td>\n",
       "      <td>2650784</td>\n",
       "    </tr>\n",
       "  </tbody>\n",
       "</table>\n",
       "</div>"
      ],
      "text/plain": [
       "Price             Close         High          Low         Open   Volume\n",
       "Ticker           TCS.NS       TCS.NS       TCS.NS       TCS.NS   TCS.NS\n",
       "Date                                                                   \n",
       "2025-08-12  3035.399902  3096.399902  3026.899902  3041.000000  3358232\n",
       "2025-08-13  3036.199951  3044.399902  3028.600098  3036.100098  2148166\n",
       "2025-08-14  3022.300049  3055.899902  3019.100098  3034.000000  3342174\n",
       "2025-08-18  3011.199951  3049.000000  3003.399902  3046.500000  2945609\n",
       "2025-08-19  3016.199951  3025.000000  3011.100098  3011.199951  2650784"
      ]
     },
     "execution_count": 7,
     "metadata": {},
     "output_type": "execute_result"
    }
   ],
   "source": [
    "# 📥 Download historical data\n",
    "df = yf.download(TICKER, period=HISTORY_PERIOD, auto_adjust=True, progress=False)\n",
    "df.index = pd.to_datetime(df.index)\n",
    "df.index.name = 'Date'\n",
    "df.sort_index(inplace=True)\n",
    "print(\"Rows:\", len(df), \"From\", df.index.min().date(), \"to\", df.index.max().date())\n",
    "df.to_csv(OUTPUT_HISTORY_CSV)\n",
    "df.tail()\n"
   ]
  },
  {
   "cell_type": "code",
   "execution_count": 9,
   "id": "746d6aa5",
   "metadata": {},
   "outputs": [
    {
     "name": "stdout",
     "output_type": "stream",
     "text": [
      "Latest price: 3083.0 at 2025-08-20 07:16:00+00:00\n"
     ]
    }
   ],
   "source": [
    "intraday = yf.download(\n",
    "    TICKER, \n",
    "    period=INTRADAY_PERIOD, \n",
    "    interval=INTRADAY_INTERVAL, \n",
    "    progress=False, \n",
    "    auto_adjust=True\n",
    ")\n",
    "\n",
    "if not intraday.empty:\n",
    "    latest_price = intraday['Close'].iloc[-1].item()\n",
    "    latest_time = intraday.index[-1]\n",
    "    print(f\"Latest price: {latest_price} at {latest_time}\")\n",
    "else:\n",
    "    print(\"No intraday data available.\")\n"
   ]
  },
  {
   "cell_type": "code",
   "execution_count": 10,
   "id": "1cc5692e",
   "metadata": {},
   "outputs": [
    {
     "name": "stdout",
     "output_type": "stream",
     "text": [
      "<class 'pandas.core.frame.DataFrame'>\n",
      "DatetimeIndex: 5715 entries, 2002-08-12 to 2025-08-19\n",
      "Data columns (total 5 columns):\n",
      " #   Column            Non-Null Count  Dtype  \n",
      "---  ------            --------------  -----  \n",
      " 0   (Close, TCS.NS)   5715 non-null   float64\n",
      " 1   (High, TCS.NS)    5715 non-null   float64\n",
      " 2   (Low, TCS.NS)     5715 non-null   float64\n",
      " 3   (Open, TCS.NS)    5715 non-null   float64\n",
      " 4   (Volume, TCS.NS)  5715 non-null   int64  \n",
      "dtypes: float64(4), int64(1)\n",
      "memory usage: 267.9 KB\n",
      "None\n"
     ]
    },
    {
     "data": {
      "text/html": [
       "<div>\n",
       "<style scoped>\n",
       "    .dataframe tbody tr th:only-of-type {\n",
       "        vertical-align: middle;\n",
       "    }\n",
       "\n",
       "    .dataframe tbody tr th {\n",
       "        vertical-align: top;\n",
       "    }\n",
       "\n",
       "    .dataframe thead tr th {\n",
       "        text-align: left;\n",
       "    }\n",
       "</style>\n",
       "<table border=\"1\" class=\"dataframe\">\n",
       "  <thead>\n",
       "    <tr>\n",
       "      <th>Price</th>\n",
       "      <th>Close</th>\n",
       "      <th>High</th>\n",
       "      <th>Low</th>\n",
       "      <th>Open</th>\n",
       "      <th>Volume</th>\n",
       "    </tr>\n",
       "    <tr>\n",
       "      <th>Ticker</th>\n",
       "      <th>TCS.NS</th>\n",
       "      <th>TCS.NS</th>\n",
       "      <th>TCS.NS</th>\n",
       "      <th>TCS.NS</th>\n",
       "      <th>TCS.NS</th>\n",
       "    </tr>\n",
       "  </thead>\n",
       "  <tbody>\n",
       "    <tr>\n",
       "      <th>count</th>\n",
       "      <td>5715.000</td>\n",
       "      <td>5715.000</td>\n",
       "      <td>5715.000</td>\n",
       "      <td>5715.000</td>\n",
       "      <td>5.715000e+03</td>\n",
       "    </tr>\n",
       "    <tr>\n",
       "      <th>mean</th>\n",
       "      <td>1238.449</td>\n",
       "      <td>1251.367</td>\n",
       "      <td>1225.971</td>\n",
       "      <td>1238.984</td>\n",
       "      <td>3.153720e+06</td>\n",
       "    </tr>\n",
       "    <tr>\n",
       "      <th>std</th>\n",
       "      <td>1251.786</td>\n",
       "      <td>1263.191</td>\n",
       "      <td>1240.994</td>\n",
       "      <td>1252.244</td>\n",
       "      <td>3.060926e+06</td>\n",
       "    </tr>\n",
       "    <tr>\n",
       "      <th>min</th>\n",
       "      <td>25.945</td>\n",
       "      <td>26.658</td>\n",
       "      <td>23.751</td>\n",
       "      <td>23.751</td>\n",
       "      <td>0.000000e+00</td>\n",
       "    </tr>\n",
       "    <tr>\n",
       "      <th>25%</th>\n",
       "      <td>187.532</td>\n",
       "      <td>190.218</td>\n",
       "      <td>184.993</td>\n",
       "      <td>188.227</td>\n",
       "      <td>1.648840e+06</td>\n",
       "    </tr>\n",
       "    <tr>\n",
       "      <th>50%</th>\n",
       "      <td>884.626</td>\n",
       "      <td>893.988</td>\n",
       "      <td>872.081</td>\n",
       "      <td>884.630</td>\n",
       "      <td>2.483658e+06</td>\n",
       "    </tr>\n",
       "    <tr>\n",
       "      <th>75%</th>\n",
       "      <td>1937.121</td>\n",
       "      <td>1954.994</td>\n",
       "      <td>1914.410</td>\n",
       "      <td>1940.620</td>\n",
       "      <td>3.859512e+06</td>\n",
       "    </tr>\n",
       "    <tr>\n",
       "      <th>max</th>\n",
       "      <td>4476.749</td>\n",
       "      <td>4514.598</td>\n",
       "      <td>4435.706</td>\n",
       "      <td>4498.624</td>\n",
       "      <td>8.806715e+07</td>\n",
       "    </tr>\n",
       "  </tbody>\n",
       "</table>\n",
       "</div>"
      ],
      "text/plain": [
       "Price      Close      High       Low      Open        Volume\n",
       "Ticker    TCS.NS    TCS.NS    TCS.NS    TCS.NS        TCS.NS\n",
       "count   5715.000  5715.000  5715.000  5715.000  5.715000e+03\n",
       "mean    1238.449  1251.367  1225.971  1238.984  3.153720e+06\n",
       "std     1251.786  1263.191  1240.994  1252.244  3.060926e+06\n",
       "min       25.945    26.658    23.751    23.751  0.000000e+00\n",
       "25%      187.532   190.218   184.993   188.227  1.648840e+06\n",
       "50%      884.626   893.988   872.081   884.630  2.483658e+06\n",
       "75%     1937.121  1954.994  1914.410  1940.620  3.859512e+06\n",
       "max     4476.749  4514.598  4435.706  4498.624  8.806715e+07"
      ]
     },
     "execution_count": 10,
     "metadata": {},
     "output_type": "execute_result"
    }
   ],
   "source": [
    "# 🔎 Quick EDA\n",
    "print(df.info())\n",
    "df.describe().round(3)\n"
   ]
  },
  {
   "cell_type": "code",
   "execution_count": 11,
   "id": "d1de1e65",
   "metadata": {},
   "outputs": [
    {
     "data": {
      "image/png": "[encoded data removed]",
      "text/plain": [
       "<Figure size 640x480 with 1 Axes>"
      ]
     },
     "metadata": {},
     "output_type": "display_data"
    },
    {
     "data": {
      "image/png": "[encoded data removed]",
      "text/plain": [
       "<Figure size 640x480 with 1 Axes>"
      ]
     },
     "metadata": {},
     "output_type": "display_data"
    }
   ],
   "source": [
    "# 📈 Close price plot\n",
    "plt.figure()\n",
    "plt.plot(df['Close'], label='Close')\n",
    "plt.title(f'{TICKER} Close Price')\n",
    "plt.xlabel('Date'); plt.ylabel('INR')\n",
    "plt.legend(); plt.tight_layout(); plt.show()\n",
    "\n",
    "# Returns histogram\n",
    "df['Returns'] = df['Close'].pct_change()\n",
    "plt.figure()\n",
    "plt.hist(df['Returns'].dropna(), bins=80)\n",
    "plt.title('Daily Returns Distribution')\n",
    "plt.tight_layout(); plt.show()\n"
   ]
  },
  {
   "cell_type": "code",
   "execution_count": 12,
   "id": "dfe95a8d",
   "metadata": {},
   "outputs": [
    {
     "data": {
      "text/html": [
       "<div>\n",
       "<style scoped>\n",
       "    .dataframe tbody tr th:only-of-type {\n",
       "        vertical-align: middle;\n",
       "    }\n",
       "\n",
       "    .dataframe tbody tr th {\n",
       "        vertical-align: top;\n",
       "    }\n",
       "\n",
       "    .dataframe thead tr th {\n",
       "        text-align: left;\n",
       "    }\n",
       "\n",
       "    .dataframe thead tr:last-of-type th {\n",
       "        text-align: right;\n",
       "    }\n",
       "</style>\n",
       "<table border=\"1\" class=\"dataframe\">\n",
       "  <thead>\n",
       "    <tr>\n",
       "      <th>Price</th>\n",
       "      <th>Close</th>\n",
       "      <th>SMA_20</th>\n",
       "      <th>SMA_50</th>\n",
       "      <th>EMA_20</th>\n",
       "    </tr>\n",
       "    <tr>\n",
       "      <th>Ticker</th>\n",
       "      <th>TCS.NS</th>\n",
       "      <th></th>\n",
       "      <th></th>\n",
       "      <th></th>\n",
       "    </tr>\n",
       "    <tr>\n",
       "      <th>Date</th>\n",
       "      <th></th>\n",
       "      <th></th>\n",
       "      <th></th>\n",
       "      <th></th>\n",
       "    </tr>\n",
       "  </thead>\n",
       "  <tbody>\n",
       "    <tr>\n",
       "      <th>2025-08-12</th>\n",
       "      <td>3035.399902</td>\n",
       "      <td>3098.590002</td>\n",
       "      <td>3277.868198</td>\n",
       "      <td>3108.361414</td>\n",
       "    </tr>\n",
       "    <tr>\n",
       "      <th>2025-08-13</th>\n",
       "      <td>3036.199951</td>\n",
       "      <td>3088.744995</td>\n",
       "      <td>3271.202896</td>\n",
       "      <td>3101.488893</td>\n",
       "    </tr>\n",
       "    <tr>\n",
       "      <th>2025-08-14</th>\n",
       "      <td>3022.300049</td>\n",
       "      <td>3079.400000</td>\n",
       "      <td>3264.454932</td>\n",
       "      <td>3093.947099</td>\n",
       "    </tr>\n",
       "    <tr>\n",
       "      <th>2025-08-18</th>\n",
       "      <td>3011.199951</td>\n",
       "      <td>3070.465002</td>\n",
       "      <td>3257.223853</td>\n",
       "      <td>3086.066418</td>\n",
       "    </tr>\n",
       "    <tr>\n",
       "      <th>2025-08-19</th>\n",
       "      <td>3016.199951</td>\n",
       "      <td>3063.365002</td>\n",
       "      <td>3249.341323</td>\n",
       "      <td>3079.412469</td>\n",
       "    </tr>\n",
       "  </tbody>\n",
       "</table>\n",
       "</div>"
      ],
      "text/plain": [
       "Price             Close       SMA_20       SMA_50       EMA_20\n",
       "Ticker           TCS.NS                                       \n",
       "Date                                                          \n",
       "2025-08-12  3035.399902  3098.590002  3277.868198  3108.361414\n",
       "2025-08-13  3036.199951  3088.744995  3271.202896  3101.488893\n",
       "2025-08-14  3022.300049  3079.400000  3264.454932  3093.947099\n",
       "2025-08-18  3011.199951  3070.465002  3257.223853  3086.066418\n",
       "2025-08-19  3016.199951  3063.365002  3249.341323  3079.412469"
      ]
     },
     "execution_count": 12,
     "metadata": {},
     "output_type": "execute_result"
    }
   ],
   "source": [
    "# 🧮 Indicators & features\n",
    "df['SMA_20'] = df['Close'].rolling(20).mean()\n",
    "df['SMA_50'] = df['Close'].rolling(50).mean()\n",
    "df['EMA_20'] = df['Close'].ewm(span=20, adjust=False).mean()\n",
    "df['Log_Returns'] = np.log(df['Close'] / df['Close'].shift(1))\n",
    "df['Volatility_30'] = df['Log_Returns'].rolling(30).std() * np.sqrt(252)\n",
    "df[['Close','SMA_20','SMA_50','EMA_20']].tail()\n"
   ]
  },
  {
   "cell_type": "code",
   "execution_count": 13,
   "id": "11a211c2",
   "metadata": {},
   "outputs": [
    {
     "data": {
      "image/png": "[encoded data removed]",
      "text/plain": [
       "<Figure size 640x480 with 1 Axes>"
      ]
     },
     "metadata": {},
     "output_type": "display_data"
    }
   ],
   "source": [
    "# 📉 Plot with moving averages\n",
    "plt.figure()\n",
    "plt.plot(df['Close'], label='Close')\n",
    "plt.plot(df['SMA_20'], label='SMA 20')\n",
    "plt.plot(df['SMA_50'], label='SMA 50')\n",
    "plt.plot(df['EMA_20'], label='EMA 20')\n",
    "plt.title('Close with Moving Averages')\n",
    "plt.legend(); plt.tight_layout(); plt.show()\n"
   ]
  },
  {
   "cell_type": "code",
   "execution_count": 14,
   "id": "446bd79a",
   "metadata": {},
   "outputs": [
    {
     "data": {
      "application/vnd.plotly.v1+json": {
       "config": {
        "plotlyServerURL": "https://plot.ly"
       },
       "data": [
        {
         "close": {
          "bdata": "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",
          "dtype": "f8",
          "shape": "500, 1"
         },
         "high": {
          "bdata": "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",
          "dtype": "f8",
          "shape": "500, 1"
         },
         "low": {
          "bdata": "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",
          "dtype": "f8",
          "shape": "500, 1"
         },
         "open": {
          "bdata": "+vgl49o6qkCV+s3K+h2qQCReuSzrBqpATzEe0PQLqkCKcuPl+h2qQCjo/4qrJ6pA05jaFXbQqUBWNS4ZooypQHj9L+YUvalAwKV3h9OlqUAEhXHplcypQEGE7uyhjKlA+rM2/3OxqUAqEWBuW5ipQAXQ3Yk0ualAz6CoEAW/qUAvYY3gMHupQLAgmy1ykqlAwlj6PNfjqUDnZQQD+f6pQEs/y0nF+KlA6OwBfScoqkDP0pItPDWqQJr/nbpfb6pAAxIaA6sIq0AxWtfwoQarQOGYm5JeAqtAsSIrPQMaq0A9gthS6hmrQL09IWN8KqtAY2nyzqohq0DUDOMKhUWrQKgkSHHiAatAEjBYokstq0APJQCorECrQMcDMG34xqpASd4N0yfBqkBFJTQSVGSqQNGT6WOH56pAnq52hzsvq0D/SEr5+perQAkMBW1KjqtAmTbgzJKhq0AvoRyqORCrQGBxrVwEuapAGG/rq8j+qkC6xeuIBLmqQHCcxPMxlKpAyfzdEytVqkCfct+XDjCqQLftLxH4W6pACFicKay7qUAINkV7DZCpQJ7a3T37bKlA+fs0YPtsqUC0Gd3uL8ypQDiNmW6ydqlAf+OkMcVfqUCgAeFmKKupQBHinIKOnalA+B5IimKjqUAl18LOqJapQE06dE3luqlAnY/sVKpVqUBgdEC5o3ipQGxVvnVLralAPFyHkIQIqkBVPQulQIyqQLIV45Rtf6pAlB666IK2qkDKhdG6bZCqQEgdy+K3yqpAtXAat0GFqkA2m4BdEz2qQBl01i6Da6pAiBmLRlyPqkDhjzbubZCqQJ24Y7gu56pAmZ5bNEPaqkDOpGlSxc+qQGxI1gJxXKtAX5B4adiSq0D7KnixOH+rQEcIN+ZnnqtAdijoA1inq0Aiz68+BI2rQKVNFdxS1KtADkIIrjVIrUCbhIC5wS6tQPj99sJEDK1A2TFLaVGCrEB6Un11UtesQFsZmink/axA/lq2VWHVrEDA2/109AWtQMkUQo/Hx6xAsiWUoOTDrEDQ8Gnc4+ysQP64/280l6xAk83Xs2wYrEDMRiMqc+SrQOXkVeKpXqxAV1lsk1sorECjXVNXmAGsQCzdOfmnQ6xANI2y+5U0rUBp+ocjMw6uQPDJe2+tl61AueXAUz38rEDRcAQmvJWtQN5xMsfFAq5AMSVO0SKrrUA26fbuL4StQLrCPvUXNq1A71tXkPLprECxasz25fasQPKgFYAz/qxAKBL2mlYPrUDlMjD1i3qtQCRsiu/GTK5AzhP4UwporkAhDx+u2JevQOH5YQgoHa9AbWkajs93r0Al6AARDmuvQPbeTOgxYq9A7HXEVkM+r0Bj6jzBKGevQNGWkGFvSq9A7EIjI4Vdr0AFsr4/xQ2vQMkpZ4Ezh65AwnpvIGg1rkCOv3vxDWuvQGEz9wL+s65AC6xinO9rrkBEic/fDyivQIjvYM6uLq9A+rL8Mqc+r0C3r/I5XjqvQEC2R3mg5q5AX+kQz0tirkAQkosPeOyuQJL6V1k1G69A7C3wGShcr0Ax2UBxHf2vQCrBRK+4mK9Ab++zX/fkr0Cj4ejFiQiwQKU4au+w0a5Al9EOUZ5SrkA8uOFrgVquQD2FEEtLpa1A0L1eHnN6rUBaA5umvZStQHAjnDL1Sa1A1zDJLKimrUD4sGiAqZetQFqSft21S61A9b00FvM+rkAsXDHvCUOuQLMzlNnGTK5A2DSORLlOrkDP3/JD+RiuQBw1GS1oNa5AqN6vFpxwrkBGvZ31B6+tQOIrL5r0fa1AtOjHsWQyrUDCTdYGcjCtQMznqyVxfq1AdIftZamXrUCQFmR4M/6sQDIUYrrKU61Axtr3oWQyrUAnK9x4m3StQPKS9ISkvaxAarqxFPSXrUAFDxDamk+tQMcwX14e561Af+agfO4hrkBcMz4r4SOuQDZB4UcMJa5AGLiIWfOMrUDqOFfnPvGtQEkVQGrms61AzvCMg+HQrUDdGgw0nAeuQBAjfdQzWq1AqbxBZ9VirUAV7EFBgW6tQBvVDXCst61AnCybBhGKrUDSBO+P84+tQDY7GZgZfq1AD33wEw/xrEB7pmCIeqisQF++bQZbmqxA53e8mwNarEDxEOKCZnmsQFtB1szn+KxAd/fJZVhnrUDiGZkEiNitQIgAKCBzdq1Az1Le5h6wrUAYMg/dmI2tQJf6MAjDzK1A4xvL7UZRrUAhiQZSalStQOKqgIpUFq1Akfeh/CNTrUB4Ejk1Vy+tQMuB/BiGP61AA2h8IHh1rUDT6EbU/FqtQHV8FqdBBa5AKz4MKPTCrUATiIOO8pmuQNMxjQS8za5AWc5cKDWmrkBwLPkuHrquQHd7i3Ko0a5AWVl2qROJrkCZy5PghoauQOZw/UgmH65Ai3Oe1kR/rkAxvhO7bTqwQJey113m969A0Rx82Fzgr0A0JIBRZZSwQOTOEdU9g7BA1J88w5NysEBZEBRqAHewQO2DxcpffrBA+eor2HG0sEAophxhWPSwQB2HtIjZ3LBAuQLoxXG0sEBHs2xLAuWwQCbjd+Eww7BAxqqraVJHsECF5QoVbASwQMvQHN6BPLBA4+vKa00OsECzGeqcsTGwQPdVbU55PrBAg1cs5sItsEA4UXla1CmwQMPZUspxtLBAxuWtbz76sEDB70HX0kyxQKeffaOaWbFAozhqzuSCsUB/5AR76EexQG0OFBkYPbFAWPfL5NJMsUD+123ZrUaxQHnHm7qVILFAs+83bOhHsUCyu1+in5KxQI1fQBeaXLFApJuPlD8xsUBRmAPkOjWxQN/YVotMLrFA69FESKsbsUADFxfaVA+xQFLqBeL+XLFACLsCQPxRsUB6MKeXZmWxQHT+yLpzYrFAu3LbOe9UsUCeT/QqAkWxQDl5p0fR27BAkzepeueTsEAlrcJESoOwQCrRXe/BU7BAF36+NnJUsEDxKmBv91uwQGMleMeypbBANgDZWWl2sEDGMBeJl1ewQCm5HsmFXrBAX7169Y45sEAflaOUoWmwQLewAJ1aaLBAgR2eW/dbsEApgbuZVFWwQFA7u63j0a9AK2UY3/3Lr0BrSyuhZLqvQNfaVQTaX69AASVeuoKWr0B1bATsTH2vQPBNx7ZD0a9AeQbrLf9Nr0AJ0SfuH8uuQFVlNQjM065AplX8dls8r0Cl05S1z1OvQGFNNdPUiK9A8dzbcbxfr0Bgd9+m4VWvQOTEgSXot65AROp5pn2JrkDkOb1+0leuQBRKKQwC065AEKAlqTENsEDFJkQwav2vQAF+y4mXyK9AYf1fR9I6sEA9Ree5eBWwQL60SLv+1a9AleSaoN03sEB6TCZ+IvOuQB9Km8hoJK9AU2uaRdpXr0BlWdWj5HmwQBO/GfNYorBAcJCcrbLHsEDao267U6CwQCYC8IXDPrBAXBv50wlwsEBrj4LIvpuwQNXqvt/0mrBATzxOlvDwsEDViZcDYiSxQFfGNvwoDrFAGAotRuwJsUA0+8NHig+xQO9DLODDDbFAfrmxUJgSsUDxxcaqSyqxQM08eL4B+rBARd8cKiKZsECKKuw63XuwQK9Vc5UuqrBAzhg5aBorsEBSxSOB9QGwQKffzv3ZFrBAETttP5cGsED42fLyh/WvQL29iJT+1a9AwhBF+/iFr0A8I7sybrivQJjWC5FLF7BAXdM1vdmbr0CSV4sZeq6vQCP2sjKzEK9AKixwQPuSr0Dg0i3gDSuwQNjVzaBmV7BAad3b3JKPsEC4jEMDyzywQHPwguMuZrBAQJbqJ04NsEBrLfDtwP6vQKAruIv7mq9A4yFxEHxBr0Du7hWaThWwQCMx55UrrK9A+lA5Jzior0D3xUYSlGqvQMZf8BNjSa9AHtL37hGkr0C+vtFRBrivQI1H7bjzva9AFsmMk78br0CmMWlnEISvQCo2J5yGA7BAgJqAtO+ur0CT8JHBgpCvQOqcwEG6La9ArpwRkQ0Dr0BJIiOKmqWuQHppHKJ6n65AdZ2ZVoZKrkAUnOfHMMOtQA1SRrP4Fa5AEVsKgzXirUDsDEV3gAetQJym8OVYJK1AlYGDmz/jrECxXoB10vmrQEWpMKuL36tA4HvCUrKqq0BRdhBBOuWqQG08l9x+z6pA+f3fRg4sq0DkwGj7eXOrQAHOhB5uyKtAMVZOskXVq0AEg/e6c3WrQOJeYBdIg6tALMvrHGgHq0D6ACRNIe2qQAAAAIBR/qpAjwHuQ7hfq0Cl8gYlkhqrQErZDIZ40apAy6rMJm7Iq0Aiz24FViGsQPFH6tXEJqxAZzZG+8Tlq0Apq+qVMC2sQLlKDIB+kqtAG8s20MpZq0BqSDzxFPGqQHQCsLBn86lAlk6lt5fsp0B5Ggk1x3upQPEleoHJKalAbB4UAxVjqUAHJdFiLZSpQHughEpjEalAmi8EqA0MqUAbF8tHK2SpQHz+lc9gpKlA5y0spyX4qUBDORT9dz+qQOimSRzPZKpAkc9QrnGCqkBvtMEZ9amqQMSS6UqLy6pAyDhhL4vLqkChaPsmFKCqQAAAAADWs6pA+IzbkP5lqkDGY5W6IJyqQIToce5RO6pAZ3ihvb0Mq0BQ9i7ou/CrQPR0EB5aLKtAjN/kYk6Bq0AU+aLeYLyrQBjXhJalZatAHPvPg7BBq0AnuAkYqxKrQLGyMQn8+KpAH0C2BGzVqkBB+NEgWiyrQM60iqIVQqtA2hYWQmAqq0DsV9AGJgyrQN53Kxsb76pArSE/QRSgqkCRjGcuLZiqQKr6JlkTY6pAL+1ZnvCKqkDoDVKPZT+qQCEYbkwAeapA1M+9B7vIqkCSB0AKhwSrQAXNDHdQCKtAIL/gaXJrqkDJsX3+usiqQMetkM1BVKtAjNirQ2Vmq0AHN/u5qdyqQLE6eOfUqqpAR/c2UeaWqkBQwHuV972qQGZyXDCNh6pANzgQTkzSqkAg7woOoeaqQLmfRuWHyKpA4ldEEKHmqkAaPDiYzyarQEqETk/MtKpAQscUb/KIqkCHuhgyep2qQBKC9JP3gqpAFu4d4e6MqkCs/KHWIlGqQMpXnEt6salAsrFtROhtqUA6fHwtUPaoQAAAAAAANqlAAAAAQDMwqUAAAAAAADKpQAAAAAAA7KhAAAAAQDOvqEAAAABAM6+oQAAAAEAzuqhAAAAAAACIqEAAAAAAAEyoQAAAAAAA6KdAAAAAAADop0AAAABgZsOnQAAAAMDMq6dAAAAAQDOCp0AAAADAzASoQAAAAAAA7qdAAAAAAACQp0AAAABAM9CnQAAAAMDMuKdAAAAAAADCp0AAAABAM7inQAAAAAAAtKdAAAAAAADNp0AAAABgZoanQA==",
          "dtype": "f8",
          "shape": "500, 1"
         },
         "type": "candlestick",
         "x": [
          "2023-08-09T00:00:00.000000000",
          "2023-08-10T00:00:00.000000000",
          "2023-08-11T00:00:00.000000000",
          "2023-08-14T00:00:00.000000000",
          "2023-08-16T00:00:00.000000000",
          "2023-08-17T00:00:00.000000000",
          "2023-08-18T00:00:00.000000000",
          "2023-08-21T00:00:00.000000000",
          "2023-08-22T00:00:00.000000000",
          "2023-08-23T00:00:00.000000000",
          "2023-08-24T00:00:00.000000000",
          "2023-08-25T00:00:00.000000000",
          "2023-08-28T00:00:00.000000000",
          "2023-08-29T00:00:00.000000000",
          "2023-08-30T00:00:00.000000000",
          "2023-08-31T00:00:00.000000000",
          "2023-09-01T00:00:00.000000000",
          "2023-09-04T00:00:00.000000000",
          "2023-09-05T00:00:00.000000000",
          "2023-09-06T00:00:00.000000000",
          "2023-09-07T00:00:00.000000000",
          "2023-09-08T00:00:00.000000000",
          "2023-09-11T00:00:00.000000000",
          "2023-09-12T00:00:00.000000000",
          "2023-09-13T00:00:00.000000000",
          "2023-09-14T00:00:00.000000000",
          "2023-09-15T00:00:00.000000000",
          "2023-09-18T00:00:00.000000000",
          "2023-09-20T00:00:00.000000000",
          "2023-09-21T00:00:00.000000000",
          "2023-09-22T00:00:00.000000000",
          "2023-09-25T00:00:00.000000000",
          "2023-09-26T00:00:00.000000000",
          "2023-09-27T00:00:00.000000000",
          "2023-09-28T00:00:00.000000000",
          "2023-09-29T00:00:00.000000000",
          "2023-10-03T00:00:00.000000000",
          "2023-10-04T00:00:00.000000000",
          "2023-10-05T00:00:00.000000000",
          "2023-10-06T00:00:00.000000000",
          "2023-10-09T00:00:00.000000000",
          "2023-10-10T00:00:00.000000000",
          "2023-10-11T00:00:00.000000000",
          "2023-10-12T00:00:00.000000000",
          "2023-10-13T00:00:00.000000000",
          "2023-10-16T00:00:00.000000000",
          "2023-10-17T00:00:00.000000000",
          "2023-10-18T00:00:00.000000000",
          "2023-10-19T00:00:00.000000000",
          "2023-10-20T00:00:00.000000000",
          "2023-10-23T00:00:00.000000000",
          "2023-10-25T00:00:00.000000000",
          "2023-10-26T00:00:00.000000000",
          "2023-10-27T00:00:00.000000000",
          "2023-10-30T00:00:00.000000000",
          "2023-10-31T00:00:00.000000000",
          "2023-11-01T00:00:00.000000000",
          "2023-11-02T00:00:00.000000000",
          "2023-11-03T00:00:00.000000000",
          "2023-11-06T00:00:00.000000000",
          "2023-11-07T00:00:00.000000000",
          "2023-11-08T00:00:00.000000000",
          "2023-11-09T00:00:00.000000000",
          "2023-11-10T00:00:00.000000000",
          "2023-11-13T00:00:00.000000000",
          "2023-11-15T00:00:00.000000000",
          "2023-11-16T00:00:00.000000000",
          "2023-11-17T00:00:00.000000000",
          "2023-11-20T00:00:00.000000000",
          "2023-11-21T00:00:00.000000000",
          "2023-11-22T00:00:00.000000000",
          "2023-11-23T00:00:00.000000000",
          "2023-11-24T00:00:00.000000000",
          "2023-11-28T00:00:00.000000000",
          "2023-11-29T00:00:00.000000000",
          "2023-11-30T00:00:00.000000000",
          "2023-12-01T00:00:00.000000000",
          "2023-12-04T00:00:00.000000000",
          "2023-12-05T00:00:00.000000000",
          "2023-12-06T00:00:00.000000000",
          "2023-12-07T00:00:00.000000000",
          "2023-12-08T00:00:00.000000000",
          "2023-12-11T00:00:00.000000000",
          "2023-12-12T00:00:00.000000000",
          "2023-12-13T00:00:00.000000000",
          "2023-12-14T00:00:00.000000000",
          "2023-12-15T00:00:00.000000000",
          "2023-12-18T00:00:00.000000000",
          "2023-12-19T00:00:00.000000000",
          "2023-12-20T00:00:00.000000000",
          "2023-12-21T00:00:00.000000000",
          "2023-12-22T00:00:00.000000000",
          "2023-12-26T00:00:00.000000000",
          "2023-12-27T00:00:00.000000000",
          "2023-12-28T00:00:00.000000000",
          "2023-12-29T00:00:00.000000000",
          "2024-01-01T00:00:00.000000000",
          "2024-01-02T00:00:00.000000000",
          "2024-01-03T00:00:00.000000000",
          "2024-01-04T00:00:00.000000000",
          "2024-01-05T00:00:00.000000000",
          "2024-01-08T00:00:00.000000000",
          "2024-01-09T00:00:00.000000000",
          "2024-01-10T00:00:00.000000000",
          "2024-01-11T00:00:00.000000000",
          "2024-01-12T00:00:00.000000000",
          "2024-01-15T00:00:00.000000000",
          "2024-01-16T00:00:00.000000000",
          "2024-01-17T00:00:00.000000000",
          "2024-01-18T00:00:00.000000000",
          "2024-01-19T00:00:00.000000000",
          "2024-01-23T00:00:00.000000000",
          "2024-01-24T00:00:00.000000000",
          "2024-01-25T00:00:00.000000000",
          "2024-01-29T00:00:00.000000000",
          "2024-01-30T00:00:00.000000000",
          "2024-01-31T00:00:00.000000000",
          "2024-02-01T00:00:00.000000000",
          "2024-02-02T00:00:00.000000000",
          "2024-02-05T00:00:00.000000000",
          "2024-02-06T00:00:00.000000000",
          "2024-02-07T00:00:00.000000000",
          "2024-02-08T00:00:00.000000000",
          "2024-02-09T00:00:00.000000000",
          "2024-02-12T00:00:00.000000000",
          "2024-02-13T00:00:00.000000000",
          "2024-02-14T00:00:00.000000000",
          "2024-02-15T00:00:00.000000000",
          "2024-02-16T00:00:00.000000000",
          "2024-02-19T00:00:00.000000000",
          "2024-02-20T00:00:00.000000000",
          "2024-02-21T00:00:00.000000000",
          "2024-02-22T00:00:00.000000000",
          "2024-02-23T00:00:00.000000000",
          "2024-02-26T00:00:00.000000000",
          "2024-02-27T00:00:00.000000000",
          "2024-02-28T00:00:00.000000000",
          "2024-02-29T00:00:00.000000000",
          "2024-03-01T00:00:00.000000000",
          "2024-03-04T00:00:00.000000000",
          "2024-03-05T00:00:00.000000000",
          "2024-03-06T00:00:00.000000000",
          "2024-03-07T00:00:00.000000000",
          "2024-03-11T00:00:00.000000000",
          "2024-03-12T00:00:00.000000000",
          "2024-03-13T00:00:00.000000000",
          "2024-03-14T00:00:00.000000000",
          "2024-03-15T00:00:00.000000000",
          "2024-03-18T00:00:00.000000000",
          "2024-03-19T00:00:00.000000000",
          "2024-03-20T00:00:00.000000000",
          "2024-03-21T00:00:00.000000000",
          "2024-03-22T00:00:00.000000000",
          "2024-03-26T00:00:00.000000000",
          "2024-03-27T00:00:00.000000000",
          "2024-03-28T00:00:00.000000000",
          "2024-04-01T00:00:00.000000000",
          "2024-04-02T00:00:00.000000000",
          "2024-04-03T00:00:00.000000000",
          "2024-04-04T00:00:00.000000000",
          "2024-04-05T00:00:00.000000000",
          "2024-04-08T00:00:00.000000000",
          "2024-04-09T00:00:00.000000000",
          "2024-04-10T00:00:00.000000000",
          "2024-04-12T00:00:00.000000000",
          "2024-04-15T00:00:00.000000000",
          "2024-04-16T00:00:00.000000000",
          "2024-04-18T00:00:00.000000000",
          "2024-04-19T00:00:00.000000000",
          "2024-04-22T00:00:00.000000000",
          "2024-04-23T00:00:00.000000000",
          "2024-04-24T00:00:00.000000000",
          "2024-04-25T00:00:00.000000000",
          "2024-04-26T00:00:00.000000000",
          "2024-04-29T00:00:00.000000000",
          "2024-04-30T00:00:00.000000000",
          "2024-05-02T00:00:00.000000000",
          "2024-05-03T00:00:00.000000000",
          "2024-05-06T00:00:00.000000000",
          "2024-05-07T00:00:00.000000000",
          "2024-05-08T00:00:00.000000000",
          "2024-05-09T00:00:00.000000000",
          "2024-05-10T00:00:00.000000000",
          "2024-05-13T00:00:00.000000000",
          "2024-05-14T00:00:00.000000000",
          "2024-05-15T00:00:00.000000000",
          "2024-05-16T00:00:00.000000000",
          "2024-05-17T00:00:00.000000000",
          "2024-05-21T00:00:00.000000000",
          "2024-05-22T00:00:00.000000000",
          "2024-05-23T00:00:00.000000000",
          "2024-05-24T00:00:00.000000000",
          "2024-05-27T00:00:00.000000000",
          "2024-05-28T00:00:00.000000000",
          "2024-05-29T00:00:00.000000000",
          "2024-05-30T00:00:00.000000000",
          "2024-05-31T00:00:00.000000000",
          "2024-06-03T00:00:00.000000000",
          "2024-06-04T00:00:00.000000000",
          "2024-06-05T00:00:00.000000000",
          "2024-06-06T00:00:00.000000000",
          "2024-06-07T00:00:00.000000000",
          "2024-06-10T00:00:00.000000000",
          "2024-06-11T00:00:00.000000000",
          "2024-06-12T00:00:00.000000000",
          "2024-06-13T00:00:00.000000000",
          "2024-06-14T00:00:00.000000000",
          "2024-06-18T00:00:00.000000000",
          "2024-06-19T00:00:00.000000000",
          "2024-06-20T00:00:00.000000000",
          "2024-06-21T00:00:00.000000000",
          "2024-06-24T00:00:00.000000000",
          "2024-06-25T00:00:00.000000000",
          "2024-06-26T00:00:00.000000000",
          "2024-06-27T00:00:00.000000000",
          "2024-06-28T00:00:00.000000000",
          "2024-07-01T00:00:00.000000000",
          "2024-07-02T00:00:00.000000000",
          "2024-07-03T00:00:00.000000000",
          "2024-07-04T00:00:00.000000000",
          "2024-07-05T00:00:00.000000000",
          "2024-07-08T00:00:00.000000000",
          "2024-07-09T00:00:00.000000000",
          "2024-07-10T00:00:00.000000000",
          "2024-07-11T00:00:00.000000000",
          "2024-07-12T00:00:00.000000000",
          "2024-07-15T00:00:00.000000000",
          "2024-07-16T00:00:00.000000000",
          "2024-07-18T00:00:00.000000000",
          "2024-07-19T00:00:00.000000000",
          "2024-07-22T00:00:00.000000000",
          "2024-07-23T00:00:00.000000000",
          "2024-07-24T00:00:00.000000000",
          "2024-07-25T00:00:00.000000000",
          "2024-07-26T00:00:00.000000000",
          "2024-07-29T00:00:00.000000000",
          "2024-07-30T00:00:00.000000000",
          "2024-07-31T00:00:00.000000000",
          "2024-08-01T00:00:00.000000000",
          "2024-08-02T00:00:00.000000000",
          "2024-08-05T00:00:00.000000000",
          "2024-08-06T00:00:00.000000000",
          "2024-08-07T00:00:00.000000000",
          "2024-08-08T00:00:00.000000000",
          "2024-08-09T00:00:00.000000000",
          "2024-08-12T00:00:00.000000000",
          "2024-08-13T00:00:00.000000000",
          "2024-08-14T00:00:00.000000000",
          "2024-08-16T00:00:00.000000000",
          "2024-08-19T00:00:00.000000000",
          "2024-08-20T00:00:00.000000000",
          "2024-08-21T00:00:00.000000000",
          "2024-08-22T00:00:00.000000000",
          "2024-08-23T00:00:00.000000000",
          "2024-08-26T00:00:00.000000000",
          "2024-08-27T00:00:00.000000000",
          "2024-08-28T00:00:00.000000000",
          "2024-08-29T00:00:00.000000000",
          "2024-08-30T00:00:00.000000000",
          "2024-09-02T00:00:00.000000000",
          "2024-09-03T00:00:00.000000000",
          "2024-09-04T00:00:00.000000000",
          "2024-09-05T00:00:00.000000000",
          "2024-09-06T00:00:00.000000000",
          "2024-09-09T00:00:00.000000000",
          "2024-09-10T00:00:00.000000000",
          "2024-09-11T00:00:00.000000000",
          "2024-09-12T00:00:00.000000000",
          "2024-09-13T00:00:00.000000000",
          "2024-09-16T00:00:00.000000000",
          "2024-09-17T00:00:00.000000000",
          "2024-09-18T00:00:00.000000000",
          "2024-09-19T00:00:00.000000000",
          "2024-09-20T00:00:00.000000000",
          "2024-09-23T00:00:00.000000000",
          "2024-09-24T00:00:00.000000000",
          "2024-09-25T00:00:00.000000000",
          "2024-09-26T00:00:00.000000000",
          "2024-09-27T00:00:00.000000000",
          "2024-09-30T00:00:00.000000000",
          "2024-10-01T00:00:00.000000000",
          "2024-10-03T00:00:00.000000000",
          "2024-10-04T00:00:00.000000000",
          "2024-10-07T00:00:00.000000000",
          "2024-10-08T00:00:00.000000000",
          "2024-10-09T00:00:00.000000000",
          "2024-10-10T00:00:00.000000000",
          "2024-10-11T00:00:00.000000000",
          "2024-10-14T00:00:00.000000000",
          "2024-10-15T00:00:00.000000000",
          "2024-10-16T00:00:00.000000000",
          "2024-10-17T00:00:00.000000000",
          "2024-10-18T00:00:00.000000000",
          "2024-10-21T00:00:00.000000000",
          "2024-10-22T00:00:00.000000000",
          "2024-10-23T00:00:00.000000000",
          "2024-10-24T00:00:00.000000000",
          "2024-10-25T00:00:00.000000000",
          "2024-10-28T00:00:00.000000000",
          "2024-10-29T00:00:00.000000000",
          "2024-10-30T00:00:00.000000000",
          "2024-10-31T00:00:00.000000000",
          "2024-11-01T00:00:00.000000000",
          "2024-11-04T00:00:00.000000000",
          "2024-11-05T00:00:00.000000000",
          "2024-11-06T00:00:00.000000000",
          "2024-11-07T00:00:00.000000000",
          "2024-11-08T00:00:00.000000000",
          "2024-11-11T00:00:00.000000000",
          "2024-11-12T00:00:00.000000000",
          "2024-11-13T00:00:00.000000000",
          "2024-11-14T00:00:00.000000000",
          "2024-11-18T00:00:00.000000000",
          "2024-11-19T00:00:00.000000000",
          "2024-11-21T00:00:00.000000000",
          "2024-11-22T00:00:00.000000000",
          "2024-11-25T00:00:00.000000000",
          "2024-11-26T00:00:00.000000000",
          "2024-11-27T00:00:00.000000000",
          "2024-11-28T00:00:00.000000000",
          "2024-11-29T00:00:00.000000000",
          "2024-12-02T00:00:00.000000000",
          "2024-12-03T00:00:00.000000000",
          "2024-12-04T00:00:00.000000000",
          "2024-12-05T00:00:00.000000000",
          "2024-12-06T00:00:00.000000000",
          "2024-12-09T00:00:00.000000000",
          "2024-12-10T00:00:00.000000000",
          "2024-12-11T00:00:00.000000000",
          "2024-12-12T00:00:00.000000000",
          "2024-12-13T00:00:00.000000000",
          "2024-12-16T00:00:00.000000000",
          "2024-12-17T00:00:00.000000000",
          "2024-12-18T00:00:00.000000000",
          "2024-12-19T00:00:00.000000000",
          "2024-12-20T00:00:00.000000000",
          "2024-12-23T00:00:00.000000000",
          "2024-12-24T00:00:00.000000000",
          "2024-12-26T00:00:00.000000000",
          "2024-12-27T00:00:00.000000000",
          "2024-12-30T00:00:00.000000000",
          "2024-12-31T00:00:00.000000000",
          "2025-01-01T00:00:00.000000000",
          "2025-01-02T00:00:00.000000000",
          "2025-01-03T00:00:00.000000000",
          "2025-01-06T00:00:00.000000000",
          "2025-01-07T00:00:00.000000000",
          "2025-01-08T00:00:00.000000000",
          "2025-01-09T00:00:00.000000000",
          "2025-01-10T00:00:00.000000000",
          "2025-01-13T00:00:00.000000000",
          "2025-01-14T00:00:00.000000000",
          "2025-01-15T00:00:00.000000000",
          "2025-01-16T00:00:00.000000000",
          "2025-01-17T00:00:00.000000000",
          "2025-01-20T00:00:00.000000000",
          "2025-01-21T00:00:00.000000000",
          "2025-01-22T00:00:00.000000000",
          "2025-01-23T00:00:00.000000000",
          "2025-01-24T00:00:00.000000000",
          "2025-01-27T00:00:00.000000000",
          "2025-01-28T00:00:00.000000000",
          "2025-01-29T00:00:00.000000000",
          "2025-01-30T00:00:00.000000000",
          "2025-01-31T00:00:00.000000000",
          "2025-02-01T00:00:00.000000000",
          "2025-02-03T00:00:00.000000000",
          "2025-02-04T00:00:00.000000000",
          "2025-02-05T00:00:00.000000000",
          "2025-02-06T00:00:00.000000000",
          "2025-02-07T00:00:00.000000000",
          "2025-02-10T00:00:00.000000000",
          "2025-02-11T00:00:00.000000000",
          "2025-02-12T00:00:00.000000000",
          "2025-02-13T00:00:00.000000000",
          "2025-02-14T00:00:00.000000000",
          "2025-02-17T00:00:00.000000000",
          "2025-02-18T00:00:00.000000000",
          "2025-02-19T00:00:00.000000000",
          "2025-02-20T00:00:00.000000000",
          "2025-02-21T00:00:00.000000000",
          "2025-02-24T00:00:00.000000000",
          "2025-02-25T00:00:00.000000000",
          "2025-02-27T00:00:00.000000000",
          "2025-02-28T00:00:00.000000000",
          "2025-03-03T00:00:00.000000000",
          "2025-03-04T00:00:00.000000000",
          "2025-03-05T00:00:00.000000000",
          "2025-03-06T00:00:00.000000000",
          "2025-03-07T00:00:00.000000000",
          "2025-03-10T00:00:00.000000000",
          "2025-03-11T00:00:00.000000000",
          "2025-03-12T00:00:00.000000000",
          "2025-03-13T00:00:00.000000000",
          "2025-03-17T00:00:00.000000000",
          "2025-03-18T00:00:00.000000000",
          "2025-03-19T00:00:00.000000000",
          "2025-03-20T00:00:00.000000000",
          "2025-03-21T00:00:00.000000000",
          "2025-03-24T00:00:00.000000000",
          "2025-03-25T00:00:00.000000000",
          "2025-03-26T00:00:00.000000000",
          "2025-03-27T00:00:00.000000000",
          "2025-03-28T00:00:00.000000000",
          "2025-04-01T00:00:00.000000000",
          "2025-04-02T00:00:00.000000000",
          "2025-04-03T00:00:00.000000000",
          "2025-04-04T00:00:00.000000000",
          "2025-04-07T00:00:00.000000000",
          "2025-04-08T00:00:00.000000000",
          "2025-04-09T00:00:00.000000000",
          "2025-04-11T00:00:00.000000000",
          "2025-04-15T00:00:00.000000000",
          "2025-04-16T00:00:00.000000000",
          "2025-04-17T00:00:00.000000000",
          "2025-04-21T00:00:00.000000000",
          "2025-04-22T00:00:00.000000000",
          "2025-04-23T00:00:00.000000000",
          "2025-04-24T00:00:00.000000000",
          "2025-04-25T00:00:00.000000000",
          "2025-04-28T00:00:00.000000000",
          "2025-04-29T00:00:00.000000000",
          "2025-04-30T00:00:00.000000000",
          "2025-05-02T00:00:00.000000000",
          "2025-05-05T00:00:00.000000000",
          "2025-05-06T00:00:00.000000000",
          "2025-05-07T00:00:00.000000000",
          "2025-05-08T00:00:00.000000000",
          "2025-05-09T00:00:00.000000000",
          "2025-05-12T00:00:00.000000000",
          "2025-05-13T00:00:00.000000000",
          "2025-05-14T00:00:00.000000000",
          "2025-05-15T00:00:00.000000000",
          "2025-05-16T00:00:00.000000000",
          "2025-05-19T00:00:00.000000000",
          "2025-05-20T00:00:00.000000000",
          "2025-05-21T00:00:00.000000000",
          "2025-05-22T00:00:00.000000000",
          "2025-05-23T00:00:00.000000000",
          "2025-05-26T00:00:00.000000000",
          "2025-05-27T00:00:00.000000000",
          "2025-05-28T00:00:00.000000000",
          "2025-05-29T00:00:00.000000000",
          "2025-05-30T00:00:00.000000000",
          "2025-06-02T00:00:00.000000000",
          "2025-06-03T00:00:00.000000000",
          "2025-06-04T00:00:00.000000000",
          "2025-06-05T00:00:00.000000000",
          "2025-06-06T00:00:00.000000000",
          "2025-06-09T00:00:00.000000000",
          "2025-06-10T00:00:00.000000000",
          "2025-06-11T00:00:00.000000000",
          "2025-06-12T00:00:00.000000000",
          "2025-06-13T00:00:00.000000000",
          "2025-06-16T00:00:00.000000000",
          "2025-06-17T00:00:00.000000000",
          "2025-06-18T00:00:00.000000000",
          "2025-06-19T00:00:00.000000000",
          "2025-06-20T00:00:00.000000000",
          "2025-06-23T00:00:00.000000000",
          "2025-06-24T00:00:00.000000000",
          "2025-06-25T00:00:00.000000000",
          "2025-06-26T00:00:00.000000000",
          "2025-06-27T00:00:00.000000000",
          "2025-06-30T00:00:00.000000000",
          "2025-07-01T00:00:00.000000000",
          "2025-07-02T00:00:00.000000000",
          "2025-07-03T00:00:00.000000000",
          "2025-07-04T00:00:00.000000000",
          "2025-07-07T00:00:00.000000000",
          "2025-07-08T00:00:00.000000000",
          "2025-07-09T00:00:00.000000000",
          "2025-07-10T00:00:00.000000000",
          "2025-07-11T00:00:00.000000000",
          "2025-07-14T00:00:00.000000000",
          "2025-07-15T00:00:00.000000000",
          "2025-07-16T00:00:00.000000000",
          "2025-07-17T00:00:00.000000000",
          "2025-07-18T00:00:00.000000000",
          "2025-07-21T00:00:00.000000000",
          "2025-07-22T00:00:00.000000000",
          "2025-07-23T00:00:00.000000000",
          "2025-07-24T00:00:00.000000000",
          "2025-07-25T00:00:00.000000000",
          "2025-07-28T00:00:00.000000000",
          "2025-07-29T00:00:00.000000000",
          "2025-07-30T00:00:00.000000000",
          "2025-07-31T00:00:00.000000000",
          "2025-08-01T00:00:00.000000000",
          "2025-08-04T00:00:00.000000000",
          "2025-08-05T00:00:00.000000000",
          "2025-08-06T00:00:00.000000000",
          "2025-08-07T00:00:00.000000000",
          "2025-08-08T00:00:00.000000000",
          "2025-08-11T00:00:00.000000000",
          "2025-08-12T00:00:00.000000000",
          "2025-08-13T00:00:00.000000000",
          "2025-08-14T00:00:00.000000000",
          "2025-08-18T00:00:00.000000000",
          "2025-08-19T00:00:00.000000000"
         ]
        }
       ],
       "layout": {
        "template": {
         "data": {
          "bar": [
           {
            "error_x": {
             "color": "#2a3f5f"
            },
            "error_y": {
             "color": "#2a3f5f"
            },
            "marker": {
             "line": {
              "color": "#E5ECF6",
              "width": 0.5
             },
             "pattern": {
              "fillmode": "overlay",
              "size": 10,
              "solidity": 0.2
             }
            },
            "type": "bar"
           }
          ],
          "barpolar": [
           {
            "marker": {
             "line": {
              "color": "#E5ECF6",
              "width": 0.5
             },
             "pattern": {
              "fillmode": "overlay",
              "size": 10,
              "solidity": 0.2
             }
            },
            "type": "barpolar"
           }
          ],
          "carpet": [
           {
            "aaxis": {
             "endlinecolor": "#2a3f5f",
             "gridcolor": "white",
             "linecolor": "white",
             "minorgridcolor": "white",
             "startlinecolor": "#2a3f5f"
            },
            "baxis": {
             "endlinecolor": "#2a3f5f",
             "gridcolor": "white",
             "linecolor": "white",
             "minorgridcolor": "white",
             "startlinecolor": "#2a3f5f"
            },
            "type": "carpet"
           }
          ],
          "choropleth": [
           {
            "colorbar": {
             "outlinewidth": 0,
             "ticks": ""
            },
            "type": "choropleth"
           }
          ],
          "contour": [
           {
            "colorbar": {
             "outlinewidth": 0,
             "ticks": ""
            },
            "colorscale": [
             [
              0,
              "#0d0887"
             ],
             [
              0.1111111111111111,
              "#46039f"
             ],
             [
              0.2222222222222222,
              "#7201a8"
             ],
             [
              0.3333333333333333,
              "#9c179e"
             ],
             [
              0.4444444444444444,
              "#bd3786"
             ],
             [
              0.5555555555555556,
              "#d8576b"
             ],
             [
              0.6666666666666666,
              "#ed7953"
             ],
             [
              0.7777777777777778,
              "#fb9f3a"
             ],
             [
              0.8888888888888888,
              "#fdca26"
             ],
             [
              1,
              "#f0f921"
             ]
            ],
            "type": "contour"
           }
          ],
          "contourcarpet": [
           {
            "colorbar": {
             "outlinewidth": 0,
             "ticks": ""
            },
            "type": "contourcarpet"
           }
          ],
          "heatmap": [
           {
            "colorbar": {
             "outlinewidth": 0,
             "ticks": ""
            },
            "colorscale": [
             [
              0,
              "#0d0887"
             ],
             [
              0.1111111111111111,
              "#46039f"
             ],
             [
              0.2222222222222222,
              "#7201a8"
             ],
             [
              0.3333333333333333,
              "#9c179e"
             ],
             [
              0.4444444444444444,
              "#bd3786"
             ],
             [
              0.5555555555555556,
              "#d8576b"
             ],
             [
              0.6666666666666666,
              "#ed7953"
             ],
             [
              0.7777777777777778,
              "#fb9f3a"
             ],
             [
              0.8888888888888888,
              "#fdca26"
             ],
             [
              1,
              "#f0f921"
             ]
            ],
            "type": "heatmap"
           }
          ],
          "histogram": [
           {
            "marker": {
             "pattern": {
              "fillmode": "overlay",
              "size": 10,
              "solidity": 0.2
             }
            },
            "type": "histogram"
           }
          ],
          "histogram2d": [
           {
            "colorbar": {
             "outlinewidth": 0,
             "ticks": ""
            },
            "colorscale": [
             [
              0,
              "#0d0887"
             ],
             [
              0.1111111111111111,
              "#46039f"
             ],
             [
              0.2222222222222222,
              "#7201a8"
             ],
             [
              0.3333333333333333,
              "#9c179e"
             ],
             [
              0.4444444444444444,
              "#bd3786"
             ],
             [
              0.5555555555555556,
              "#d8576b"
             ],
             [
              0.6666666666666666,
              "#ed7953"
             ],
             [
              0.7777777777777778,
              "#fb9f3a"
             ],
             [
              0.8888888888888888,
              "#fdca26"
             ],
             [
              1,
              "#f0f921"
             ]
            ],
            "type": "histogram2d"
           }
          ],
          "histogram2dcontour": [
           {
            "colorbar": {
             "outlinewidth": 0,
             "ticks": ""
            },
            "colorscale": [
             [
              0,
              "#0d0887"
             ],
             [
              0.1111111111111111,
              "#46039f"
             ],
             [
              0.2222222222222222,
              "#7201a8"
             ],
             [
              0.3333333333333333,
              "#9c179e"
             ],
             [
              0.4444444444444444,
              "#bd3786"
             ],
             [
              0.5555555555555556,
              "#d8576b"
             ],
             [
              0.6666666666666666,
              "#ed7953"
             ],
             [
              0.7777777777777778,
              "#fb9f3a"
             ],
             [
              0.8888888888888888,
              "#fdca26"
             ],
             [
              1,
              "#f0f921"
             ]
            ],
            "type": "histogram2dcontour"
           }
          ],
          "mesh3d": [
           {
            "colorbar": {
             "outlinewidth": 0,
             "ticks": ""
            },
            "type": "mesh3d"
           }
          ],
          "parcoords": [
           {
            "line": {
             "colorbar": {
              "outlinewidth": 0,
              "ticks": ""
             }
            },
            "type": "parcoords"
           }
          ],
          "pie": [
           {
            "automargin": true,
            "type": "pie"
           }
          ],
          "scatter": [
           {
            "fillpattern": {
             "fillmode": "overlay",
             "size": 10,
             "solidity": 0.2
            },
            "type": "scatter"
           }
          ],
          "scatter3d": [
           {
            "line": {
             "colorbar": {
              "outlinewidth": 0,
              "ticks": ""
             }
            },
            "marker": {
             "colorbar": {
              "outlinewidth": 0,
              "ticks": ""
             }
            },
            "type": "scatter3d"
           }
          ],
          "scattercarpet": [
           {
            "marker": {
             "colorbar": {
              "outlinewidth": 0,
              "ticks": ""
             }
            },
            "type": "scattercarpet"
           }
          ],
          "scattergeo": [
           {
            "marker": {
             "colorbar": {
              "outlinewidth": 0,
              "ticks": ""
             }
            },
            "type": "scattergeo"
           }
          ],
          "scattergl": [
           {
            "marker": {
             "colorbar": {
              "outlinewidth": 0,
              "ticks": ""
             }
            },
            "type": "scattergl"
           }
          ],
          "scattermap": [
           {
            "marker": {
             "colorbar": {
              "outlinewidth": 0,
              "ticks": ""
             }
            },
            "type": "scattermap"
           }
          ],
          "scattermapbox": [
           {
            "marker": {
             "colorbar": {
              "outlinewidth": 0,
              "ticks": ""
             }
            },
            "type": "scattermapbox"
           }
          ],
          "scatterpolar": [
           {
            "marker": {
             "colorbar": {
              "outlinewidth": 0,
              "ticks": ""
             }
            },
            "type": "scatterpolar"
           }
          ],
          "scatterpolargl": [
           {
            "marker": {
             "colorbar": {
              "outlinewidth": 0,
              "ticks": ""
             }
            },
            "type": "scatterpolargl"
           }
          ],
          "scatterternary": [
           {
            "marker": {
             "colorbar": {
              "outlinewidth": 0,
              "ticks": ""
             }
            },
            "type": "scatterternary"
           }
          ],
          "surface": [
           {
            "colorbar": {
             "outlinewidth": 0,
             "ticks": ""
            },
            "colorscale": [
             [
              0,
              "#0d0887"
             ],
             [
              0.1111111111111111,
              "#46039f"
             ],
             [
              0.2222222222222222,
              "#7201a8"
             ],
             [
              0.3333333333333333,
              "#9c179e"
             ],
             [
              0.4444444444444444,
              "#bd3786"
             ],
             [
              0.5555555555555556,
              "#d8576b"
             ],
             [
              0.6666666666666666,
              "#ed7953"
             ],
             [
              0.7777777777777778,
              "#fb9f3a"
             ],
             [
              0.8888888888888888,
              "#fdca26"
             ],
             [
              1,
              "#f0f921"
             ]
            ],
            "type": "surface"
           }
          ],
          "table": [
           {
            "cells": {
             "fill": {
              "color": "#EBF0F8"
             },
             "line": {
              "color": "white"
             }
            },
            "header": {
             "fill": {
              "color": "#C8D4E3"
             },
             "line": {
              "color": "white"
             }
            },
            "type": "table"
           }
          ]
         },
         "layout": {
          "annotationdefaults": {
           "arrowcolor": "#2a3f5f",
           "arrowhead": 0,
           "arrowwidth": 1
          },
          "autotypenumbers": "strict",
          "coloraxis": {
           "colorbar": {
            "outlinewidth": 0,
            "ticks": ""
           }
          },
          "colorscale": {
           "diverging": [
            [
             0,
             "#8e0152"
            ],
            [
             0.1,
             "#c51b7d"
            ],
            [
             0.2,
             "#de77ae"
            ],
            [
             0.3,
             "#f1b6da"
            ],
            [
             0.4,
             "#fde0ef"
            ],
            [
             0.5,
             "#f7f7f7"
            ],
            [
             0.6,
             "#e6f5d0"
            ],
            [
             0.7,
             "#b8e186"
            ],
            [
             0.8,
             "#7fbc41"
            ],
            [
             0.9,
             "#4d9221"
            ],
            [
             1,
             "#276419"
            ]
           ],
           "sequential": [
            [
             0,
             "#0d0887"
            ],
            [
             0.1111111111111111,
             "#46039f"
            ],
            [
             0.2222222222222222,
             "#7201a8"
            ],
            [
             0.3333333333333333,
             "#9c179e"
            ],
            [
             0.4444444444444444,
             "#bd3786"
            ],
            [
             0.5555555555555556,
             "#d8576b"
            ],
            [
             0.6666666666666666,
             "#ed7953"
            ],
            [
             0.7777777777777778,
             "#fb9f3a"
            ],
            [
             0.8888888888888888,
             "#fdca26"
            ],
            [
             1,
             "#f0f921"
            ]
           ],
           "sequentialminus": [
            [
             0,
             "#0d0887"
            ],
            [
             0.1111111111111111,
             "#46039f"
            ],
            [
             0.2222222222222222,
             "#7201a8"
            ],
            [
             0.3333333333333333,
             "#9c179e"
            ],
            [
             0.4444444444444444,
             "#bd3786"
            ],
            [
             0.5555555555555556,
             "#d8576b"
            ],
            [
             0.6666666666666666,
             "#ed7953"
            ],
            [
             0.7777777777777778,
             "#fb9f3a"
            ],
            [
             0.8888888888888888,
             "#fdca26"
            ],
            [
             1,
             "#f0f921"
            ]
           ]
          },
          "colorway": [
           "#636efa",
           "#EF553B",
           "#00cc96",
           "#ab63fa",
           "#FFA15A",
           "#19d3f3",
           "#FF6692",
           "#B6E880",
           "#FF97FF",
           "#FECB52"
          ],
          "font": {
           "color": "#2a3f5f"
          },
          "geo": {
           "bgcolor": "white",
           "lakecolor": "white",
           "landcolor": "#E5ECF6",
           "showlakes": true,
           "showland": true,
           "subunitcolor": "white"
          },
          "hoverlabel": {
           "align": "left"
          },
          "hovermode": "closest",
          "mapbox": {
           "style": "light"
          },
          "paper_bgcolor": "white",
          "plot_bgcolor": "#E5ECF6",
          "polar": {
           "angularaxis": {
            "gridcolor": "white",
            "linecolor": "white",
            "ticks": ""
           },
           "bgcolor": "#E5ECF6",
           "radialaxis": {
            "gridcolor": "white",
            "linecolor": "white",
            "ticks": ""
           }
          },
          "scene": {
           "xaxis": {
            "backgroundcolor": "#E5ECF6",
            "gridcolor": "white",
            "gridwidth": 2,
            "linecolor": "white",
            "showbackground": true,
            "ticks": "",
            "zerolinecolor": "white"
           },
           "yaxis": {
            "backgroundcolor": "#E5ECF6",
            "gridcolor": "white",
            "gridwidth": 2,
            "linecolor": "white",
            "showbackground": true,
            "ticks": "",
            "zerolinecolor": "white"
           },
           "zaxis": {
            "backgroundcolor": "#E5ECF6",
            "gridcolor": "white",
            "gridwidth": 2,
            "linecolor": "white",
            "showbackground": true,
            "ticks": "",
            "zerolinecolor": "white"
           }
          },
          "shapedefaults": {
           "line": {
            "color": "#2a3f5f"
           }
          },
          "ternary": {
           "aaxis": {
            "gridcolor": "white",
            "linecolor": "white",
            "ticks": ""
           },
           "baxis": {
            "gridcolor": "white",
            "linecolor": "white",
            "ticks": ""
           },
           "bgcolor": "#E5ECF6",
           "caxis": {
            "gridcolor": "white",
            "linecolor": "white",
            "ticks": ""
           }
          },
          "title": {
           "x": 0.05
          },
          "xaxis": {
           "automargin": true,
           "gridcolor": "white",
           "linecolor": "white",
           "ticks": "",
           "title": {
            "standoff": 15
           },
           "zerolinecolor": "white",
           "zerolinewidth": 2
          },
          "yaxis": {
           "automargin": true,
           "gridcolor": "white",
           "linecolor": "white",
           "ticks": "",
           "title": {
            "standoff": 15
           },
           "zerolinecolor": "white",
           "zerolinewidth": 2
          }
         }
        },
        "title": {
         "text": "TCS.NS Candlestick (last 500 rows)"
        },
        "xaxis": {
         "rangeslider": {
          "visible": false
         }
        }
       }
      },
      "image/png": "[encoded data removed]"
     },
     "metadata": {},
     "output_type": "display_data"
    }
   ],
   "source": [
    "# 🕯️ Candlestick (interactive with Plotly — last 500 rows)\n",
    "df_plot = df.tail(500).reset_index()\n",
    "fig = go.Figure(data=[go.Candlestick(\n",
    "    x=df_plot['Date'],\n",
    "    open=df_plot['Open'],\n",
    "    high=df_plot['High'],\n",
    "    low=df_plot['Low'],\n",
    "    close=df_plot['Close']\n",
    ")])\n",
    "fig.update_layout(title=f'{TICKER} Candlestick (last 500 rows)', xaxis_rangeslider_visible=False)\n",
    "fig.show()\n"
   ]
  },
  {
   "cell_type": "code",
   "execution_count": 15,
   "id": "41e105c7",
   "metadata": {},
   "outputs": [
    {
     "data": {
      "image/png": "[encoded data removed]",
      "text/plain": [
       "<Figure size 640x480 with 1 Axes>"
      ]
     },
     "metadata": {},
     "output_type": "display_data"
    },
    {
     "name": "stdout",
     "output_type": "stream",
     "text": [
      "Period: 2002-08-12 to 2025-08-19\n",
      "Buy & Hold total return: 10288.17%\n",
      "Strategy total return:   541.57%\n",
      "Strategy annualized return: 12.88%\n",
      "Strategy annualized vol:    32.33%\n",
      "Strategy Sharpe (approx):   0.40\n"
     ]
    }
   ],
   "source": [
    "# 🧪 Simple MA(20/50) crossover strategy\n",
    "df['Signal'] = (df['SMA_20'] > df['SMA_50']).astype(int)\n",
    "df['Strategy_Returns'] = df['Returns'] * df['Signal'].shift(1)\n",
    "\n",
    "df['BuyHold_Cum'] = (1 + df['Returns'].fillna(0)).cumprod()\n",
    "df['Strategy_Cum'] = (1 + df['Strategy_Returns'].fillna(0)).cumprod()\n",
    "\n",
    "plt.figure()\n",
    "plt.plot(df['BuyHold_Cum'], label='Buy & Hold')\n",
    "plt.plot(df['Strategy_Cum'], label='MA Strategy')\n",
    "plt.title('Cumulative Returns')\n",
    "plt.legend(); plt.tight_layout(); plt.show()\n",
    "\n",
    "# Metrics\n",
    "ann_return_strat = df['Strategy_Returns'].mean() * 252\n",
    "ann_vol_strat = df['Strategy_Returns'].std() * np.sqrt(252)\n",
    "sharpe = np.nan\n",
    "if pd.notna(ann_vol_strat) and ann_vol_strat != 0:\n",
    "    sharpe = ann_return_strat / ann_vol_strat\n",
    "\n",
    "print(f\"Period: {df.index.min().date()} to {df.index.max().date()}\")\n",
    "print(f\"Buy & Hold total return: {(df['BuyHold_Cum'].iloc[-1]-1):.2%}\")\n",
    "print(f\"Strategy total return:   {(df['Strategy_Cum'].iloc[-1]-1):.2%}\")\n",
    "print(f\"Strategy annualized return: {ann_return_strat:.2%}\")\n",
    "print(f\"Strategy annualized vol:    {ann_vol_strat:.2%}\")\n",
    "print(f\"Strategy Sharpe (approx):   {sharpe:.2f}\")\n"
   ]
  },
  {
   "cell_type": "code",
   "execution_count": 21,
   "id": "2084fe46",
   "metadata": {
    "scrolled": true
   },
   "outputs": [
    {
     "name": "stderr",
     "output_type": "stream",
     "text": [
      "[*********************100%***********************]  1 of 1 completed\n"
     ]
    },
    {
     "name": "stdout",
     "output_type": "stream",
     "text": [
      "✅ Forecasted Prices with Real Dates:\n",
      "2025-08-21    3088.058243\n",
      "2025-08-22    3086.065768\n",
      "2025-08-25    3086.635008\n",
      "2025-08-26    3089.971791\n",
      "2025-08-27    3087.403606\n",
      "Freq: B, Name: predicted_mean, dtype: float64\n",
      "\n",
      "✅ Confidence Interval:\n",
      "            lower TCS.NS  upper TCS.NS\n",
      "2025-08-21   2999.979825   3176.136661\n",
      "2025-08-22   2958.968728   3213.162808\n",
      "2025-08-25   2931.221854   3242.048162\n",
      "2025-08-26   2910.663947   3269.279635\n",
      "2025-08-27   2884.984005   3289.823207\n"
     ]
    },
    {
     "data": {
      "image/png": "[encoded data removed]",
      "text/plain": [
       "<Figure size 1000x500 with 1 Axes>"
      ]
     },
     "metadata": {},
     "output_type": "display_data"
    }
   ],
   "source": [
    "import pandas as pd\n",
    "import yfinance as yf\n",
    "from statsmodels.tsa.arima.model import ARIMA\n",
    "import matplotlib.pyplot as plt\n",
    "\n",
    "# Step 1: Download TCS data (5 years, daily) with explicit auto_adjust\n",
    "df = yf.download(\"TCS.NS\", period=\"5y\", interval=\"1d\", auto_adjust=False)\n",
    "\n",
    "# Step 2: Ensure datetime index & reindex with business days\n",
    "df = df.copy()  # avoid SettingWithCopyWarning\n",
    "df.index = pd.to_datetime(df.index)\n",
    "all_days = pd.date_range(start=df.index.min(), end=df.index.max(), freq=\"B\")  # Business days only\n",
    "df = df.reindex(all_days)   # reindex to proper frequency-aware index\n",
    "\n",
    "# Step 3: Fill missing Close values (holidays/weekends)\n",
    "df[\"Close\"] = df[\"Close\"].interpolate(method=\"time\")\n",
    "\n",
    "# Step 4: Select Close prices\n",
    "series = df[\"Close\"]\n",
    "\n",
    "# Step 5: Fit ARIMA model\n",
    "model = ARIMA(series, order=(5,1,0))\n",
    "model_fit = model.fit()\n",
    "\n",
    "# Step 6: Forecast next 5 business days\n",
    "forecast = model_fit.get_forecast(steps=5)\n",
    "forecast_mean = forecast.predicted_mean\n",
    "forecast_ci = forecast.conf_int()\n",
    "\n",
    "print(\"✅ Forecasted Prices with Real Dates:\")\n",
    "print(forecast_mean)\n",
    "\n",
    "print(\"\\n✅ Confidence Interval:\")\n",
    "print(forecast_ci)\n",
    "\n",
    "# Step 7: Plot\n",
    "plt.figure(figsize=(10,5))\n",
    "plt.plot(series[-100:], label=\"History\")\n",
    "plt.plot(forecast_mean.index, forecast_mean, label=\"Forecast\", color=\"red\")\n",
    "plt.fill_between(forecast_ci.index,\n",
    "                 forecast_ci.iloc[:,0],\n",
    "                 forecast_ci.iloc[:,1],\n",
    "                 color=\"pink\", alpha=0.3)\n",
    "plt.legend()\n",
    "plt.title(\"TCS Price Forecast (ARIMA)\")\n",
    "plt.show()\n"
   ]
  },
  {
   "cell_type": "code",
   "execution_count": 22,
   "id": "b6012a68",
   "metadata": {},
   "outputs": [
    {
     "name": "stdout",
     "output_type": "stream",
     "text": [
      "Saved CSVs: TCS_history_full.csv TCS_with_indicators.csv\n",
      "Saved intraday CSV: TCS_intraday_1m.csv\n"
     ]
    }
   ],
   "source": [
    "# 💾 Save outputs\n",
    "df.to_csv(OUTPUT_INDICATORS_CSV)\n",
    "print(\"Saved CSVs:\", OUTPUT_HISTORY_CSV, OUTPUT_INDICATORS_CSV)\n",
    "try:\n",
    "    if 'intraday' in globals() and intraday is not None and not intraday.empty:\n",
    "        print(\"Saved intraday CSV:\", OUTPUT_INTRADAY_CSV)\n",
    "except Exception:\n",
    "    pass\n"
   ]
  },
  {
   "cell_type": "markdown",
   "id": "8d8f6de2",
   "metadata": {},
   "source": [
    "## Tips & Variations\n",
    "- Change `TICKER` to analyze other stocks (e.g., `INFY.NS`, `RELIANCE.NS`).\n",
    "- If your network blocks downloads, manually download a CSV from Yahoo Finance and load it using the optional cell below.\n",
    "- Improve the forecast using `auto_arima` or Facebook Prophet; add cross-validation; try more indicators using the `ta` library.\n"
   ]
  },
  {
   "cell_type": "code",
   "execution_count": 23,
   "id": "45e09fad",
   "metadata": {},
   "outputs": [],
   "source": [
    "# 🔁 Optional: Load from a manual CSV (instead of yfinance)\n",
    "# csv_path = \"path/to/your/TCS.csv\"  # Update this path\n",
    "# df = pd.read_csv(csv_path, parse_dates=['Date'])\n",
    "# df.set_index('Date', inplace=True)\n",
    "# df.sort_index(inplace=True)\n",
    "# print(\"Loaded rows:\", len(df))\n",
    "# df.tail()\n"
   ]
  },
  {
   "cell_type": "code",
   "execution_count": null,
   "id": "c1deebef-3f9b-4ff9-961d-8e2b71637c6a",
   "metadata": {},
   "outputs": [],
   "source": []
  }
 ],
 "metadata": {
  "kernelspec": {
   "display_name": "Python 3 (ipykernel)",
   "language": "python",
   "name": "python3"
  },
  "language_info": {
   "codemirror_mode": {
    "name": "ipython",
    "version": 3
   },
   "file_extension": ".py",
   "mimetype": "text/x-python",
   "name": "python",
   "nbconvert_exporter": "python",
   "pygments_lexer": "ipython3",
   "version": "3.11.0"
  }
 },
 "nbformat": 4,
 "nbformat_minor": 5
}
